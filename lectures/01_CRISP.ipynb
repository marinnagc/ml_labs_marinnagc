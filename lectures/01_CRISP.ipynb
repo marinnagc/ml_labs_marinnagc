{
 "cells": [
  {
   "cell_type": "markdown",
   "metadata": {},
   "source": [
    "## O processo CRISP-DM\n",
    "\n",
    "CRISP-DM: CRoss-Industry Standard Process for Data Mining\n",
    "\n",
    "***Atividade***: Leia o artigo \"The CRISP-DM Model: The New Blueprint for Data Mining\" (arquivo [`crisp-dm.pdf`](../resources/crisp-dm.pdf)) e responda:"
   ]
  },
  {
   "cell_type": "markdown",
   "metadata": {},
   "source": [
    "1. O CRISP-DM é um processo de gerenciamento de equipes ou de estruturação de projetos?"
   ]
  },
  {
   "cell_type": "markdown",
   "metadata": {},
   "source": [
    "\n",
    "2. Construa uma explicação do ciclo do CRISP-DM conforme visto na figura abaixo. Preste atenção especial para o fato de que temos setas bidirecionais entre \"Business Understanding\" e \"Data Understanding\", e entre \"Data Preparation\" e \"Modeling\" - porque os autores se deram ao trabalho de fazer isso?\n",
    "\n",
    "![CRISP-DM diagram](../resources/crisp-dm.png)\n",
    "\n",
    "Fonte: Kenneth Jensen, CC BY-SA 3.0 <https://creativecommons.org/licenses/by-sa/3.0>, via Wikimedia Commons. https://commons.wikimedia.org/wiki/File:CRISP-DM_Process_Diagram.png"
   ]
  },
  {
   "cell_type": "markdown",
   "metadata": {},
   "source": [
    "3. Segundo o artigo, qual a porcentagem do tempo que se gasta, tipicamente, em cada uma das fases?"
   ]
  },
  {
   "cell_type": "markdown",
   "metadata": {},
   "source": [
    "---\n",
    "\n",
    "# Respostas"
   ]
  },
  {
   "cell_type": "markdown",
   "metadata": {},
   "source": [
    "1. O CRISP-DM é um processo de gerenciamento de equipes ou de estruturação de projetos?"
   ]
  },
  {
   "cell_type": "markdown",
   "metadata": {},
   "source": [
    "---\n",
    "\n",
    "CRISP-DM é um método de estruturação de projetos de \"Data Mining\", um nome antigo para o que hoje chamamos geralmente de \"Ciência dos Dados\". O método CRISP-DM especifica quais atividades devem acontecer em um projeto típico de ciência dos dados, sem especificar como a equipe de trabalho deve se organizar - e.g. SCRUM."
   ]
  },
  {
   "cell_type": "markdown",
   "metadata": {},
   "source": [
    "---\n",
    "\n",
    "2. Construa uma explicação do ciclo do CRISP-DM conforme visto na figura abaixo. Preste atenção especial para o fato de que temos setas bidirecionais entre \"Business Understanding\" e \"Data Understanding\", e entre \"Data Preparation\" e \"Modeling\" - porque os autores se deram ao trabalho de fazer isso?\n",
    "\n",
    "![CRISP-DM diagram](../resources/crisp-dm.png)\n",
    "\n",
    "Fonte: Kenneth Jensen, CC BY-SA 3.0 <https://creativecommons.org/licenses/by-sa/3.0>, via Wikimedia Commons. https://commons.wikimedia.org/wiki/File:CRISP-DM_Process_Diagram.png"
   ]
  },
  {
   "cell_type": "markdown",
   "metadata": {},
   "source": [
    "---\n",
    "\n",
    "Podemos observar alguns elementos sugestivos na figura acima:\n",
    "\n",
    "- No centro da figura temos uma imagem representando a base de dados. Isto indica a proeminência dos dados - sua disponibilidade, seu entendimento, questões éticas e de segurança, etc - em todas as fases do projeto de *data science*.\n",
    "\n",
    "- Na região externa da figura temos um grande círculo indicando:\n",
    "\n",
    "    - A direção do fluxo do projeto;\n",
    "\n",
    "    - O fato de que um projeto de ciência dos dados é feito de modo iterativo, onde as lições aprendidas em um ciclo do projeto são incorporadas à próxima iteração. Desta forma, existe um aperfeiçoamento contínuo do projeto, e mesmo uma reavaliação periódica de seus objetivos. Tal filosofia de desenvolvimento de projetos se assemelha ao desenvolvimento ágil de software, onde reconhece-se primordialmente que projetos desta natureza (seja desenvolvimento de software ou ciência dos dados) possuem uma grande incerteza inicial em relação aos objetivos e ao potencial do projeto, e que portanto a construção de valor tem que ser progressiva.\n",
    "\n",
    "- Na região intermediária da figura existe um diagrama de blocos que representa a sequência de etapas do ciclo de projeto, com destaque para três fases:\n",
    "\n",
    "    - A interação \"Business Understanding\" $\\rightleftarrows$ \"Data Understanding\": Indica a importância da construção de conhecimento compartilhado entre profissionais complementares:\n",
    "\n",
    "        - O especialista de negócios: entende o contexto do problema à qual o projeto se destina, e auxilia na concepção de objetivos que agregam valor ao negócio. Transfere conhecimento de contexto do problema e da natureza da origem dos dados ao especialista de dados. Ajusta seu próprio entendimento do potencial do projeto ao receber do especialista de dados mais conhecimento sobre a real informação contida nos dados, suas limitações e potenciais;\n",
    "\n",
    "        - O especialista de dados: Tal qual um arquiteto que traduz os desejos do cliente em algo factível frente às limitações do mundo real, o especialista de dados explora os dados junto com o especialista de negócios para construir um entendimento conjunto destes dados, e do que se pode obter destes (insights, modelagem preditiva, etc)\n",
    "\n",
    "        Nesta fase constrói-se o conjunto de objetivos do ciclo atual de desenvolvimento.\n",
    "\n",
    "    - A interação \"Data preparation\" $\\rightleftarrows$ \"Modeling\": \n",
    "    \n",
    "        Preparação e modelagem de dados não são atividades estanques. Cada modelo requer uma preparação diferente, e a gama de modelos existentes é muito grande. Ademais, ao experimentar com o uso de um modelo pode-se descobrir que pode ser vantajoso processar os dados de maneira diferente, para um mesmo modelo. Esta manipulação de processamento e modelagem é um processo criativo, porém sujeito à rigorosa avaliação. Realizam-se iterações nesta fase até que um desempenho satisfatório seja atingido - ou que se estabeleça que talvez um desempenho satisfatório não seja possível, e que a fase de \"Evaluation\" a seguir deverá provavelmente enviar o fluxo de projeto para o ponto de partida.\n",
    "\n",
    "        Nesta fase escolhe-se a melhor combinação pré-processamento/modelagem para o conjunto de dados de <span style=\"color:red;font-weight:bold\">TREINO</style>.\n",
    "\n",
    "    - O ponto de decisão \"Evaluate\" e os fluxos resultantes:\n",
    "\n",
    "        Neste ponto devemos tomar a pipeline de processamento e modelagem advinda do processo anterior e avaliar seu desempenho em um conjunto de dados de <span style=\"color:red;font-weight:bold\">TESTE</style>.\n",
    "\n",
    "        Se o desempenho de <span style=\"color:red;font-weight:bold\">teste</span> for satisfatório podemos seguir para a fase \"Deployment\". Nesta fase iremos produzir um artefato deste ciclo de trabalho que traga valor para o negócio, similar ao \"minimum-viable-product\" do desenvolvimento ágil. Este artefato pode ser um relatório com insights e lições aprendidas neste ciclo de análise dos dados, um novo conjunto de código e de parâmetros de modelo a ser utilizado em uma aplicação (e.g. em um microsserviço de predição que faz parte de um produto online da empresa), etc.\n",
    "\n",
    "        Se o desempenho de <span style=\"color:red;font-weight:bold\">teste</span> não for satisfatório, devemos tomar as lições aprendidas e retornar ao sub-ciclo \"Business Understanding\" $\\rightleftarrows$ \"Data Understanding\" e levar esse novo conhecimento em consideração para melhorar o entendimento global do problema e recomeçar a modelagem com maiores chances de sucesso.\n",
    "\n",
    "Após o \"Deployment\" em um ciclo bem-sucedido de projeto, devemos decidir se o projeto chegou a um estado final (seja um estado satisfatório ou porque houve uma decisão executiva de parar o projeto). Caso o projeto ainda deva continuar, iniciamos um novo ciclo.\n",
    "\n",
    "---"
   ]
  },
  {
   "cell_type": "markdown",
   "metadata": {},
   "source": [
    "3. Segundo o artigo, qual a porcentagem do tempo que se gasta, tipicamente, em cada uma das fases?"
   ]
  },
  {
   "cell_type": "markdown",
   "metadata": {},
   "source": [
    "---\n",
    "\n",
    "No artigo, página 15, segunda coluna, segundo parágrafo, lê-se:\n",
    "\n",
    "> Generally accepted industry timeline standards are: $50$ to $70$\n",
    "> percent of the time and effort in a data mining project involves\n",
    "> the Data Preparation Phase; $20$ to $30$ percent involves the Data\n",
    "> Understanding Phase; only $10$ to $20$ percent is spent in each of\n",
    "> the Modeling, Evaluation, and Business Understanding Phases;\n",
    "> and $5$ to $10$ percent is spent in the Deployment Planning Phase.\n",
    "\n",
    "Essas frações não somam 100% porque existe sobreposição entre as fases:\n",
    "\n",
    "- \"Business Understanding\" e \"Data Understanding\": duração total de $20\\%$ a $30\\%$\n",
    "- \"Data Preparation\" e \"Modeling\": duração total de $50\\%$ a $70\\%$\n",
    "- \"Evaluation\" e \"Deployment\": $10\\%$ a $20\\%$\n",
    "\n",
    "Somando-se as durações médias das fases temos $25\\% + 60\\% + 15\\%$ totalizando $100\\%$."
   ]
  }
 ],
 "metadata": {
  "language_info": {
   "name": "python"
  }
 },
 "nbformat": 4,
 "nbformat_minor": 2
}
