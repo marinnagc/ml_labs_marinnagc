{
 "cells": [
  {
   "cell_type": "markdown",
   "metadata": {},
   "source": [
    "# Um projeto de *machine learning*"
   ]
  },
  {
   "cell_type": "markdown",
   "metadata": {},
   "source": [
    "## Respostas"
   ]
  },
  {
   "cell_type": "markdown",
   "metadata": {},
   "source": [
    "***\n",
    "\n",
    "***Atividade***:\n",
    "\n",
    "Escreva e rode os códigos acima para ver que funcionam."
   ]
  },
  {
   "cell_type": "markdown",
   "metadata": {},
   "source": [
    "***Resposta***\n",
    "\n",
    "Verifique os diretórios `exemplo_01` a `exemplo_04`."
   ]
  },
  {
   "cell_type": "markdown",
   "metadata": {},
   "source": [
    "***\n",
    "\n",
    "***Atividade***\n",
    "\n",
    "Crie a seguinte estrutura de diretórios para o seu projeto:\n",
    "\n",
    "> ```text\n",
    "> car_prices/\n",
    "> ├── src/\n",
    "> │   └── car_prices/\n",
    "> │       ├── __init__.py\n",
    "> │       └── dataset.py\n",
    "> ├── notebooks/\n",
    "> │   ├── .gitkeep\n",
    "> │   └── test_reading.ipynb\n",
    "> ├── scripts/\n",
    "> │   ├── .gitkeep\n",
    "> │   └── show_dataset_info.py\n",
    "> ├── pyproject.toml\n",
    "> └── README.md\n",
    "> ```\n",
    "\n",
    "Os arquivos `pyproject.toml`, `test_reading.ipynb` e `show_dataset_info.py` já estão implementados aqui nesta pasta, copie-os para o projeto.\n",
    "\n",
    "Note que temos uma questão acerca da variável `DATA_DIR`, que não deve ser transferida. Para resolver essa questão em definitivo, adicionei um arquivo `.env_template` na raiz deste repositório. Copie este arquivo `.env_template` para `.env` e escreva o diretório onde os dados devem ser armazenados na variável `DATA_DIR` deste arquivo. Veja nos arquivos `test_reading.ipynb` e `show_dataset_info.py` como utilizar arquivos `.env` com a biblioteca `dotenv`. (Note que o arquivo `pyproject.toml` já inclui a dependência `python-dotenv` necessária.)\n",
    "\n",
    "Agora transfira o código de leitura do *dataset* para o módulo `dataset.py`. "
   ]
  },
  {
   "cell_type": "markdown",
   "metadata": {},
   "source": [
    "***Resposta***\n",
    "\n",
    "O código deste projeto está implementado no diretório `projects`, na raiz deste repositório."
   ]
  }
 ],
 "metadata": {
  "kernelspec": {
   "display_name": "ml",
   "language": "python",
   "name": "python3"
  },
  "language_info": {
   "codemirror_mode": {
    "name": "ipython",
    "version": 3
   },
   "file_extension": ".py",
   "mimetype": "text/x-python",
   "name": "python",
   "nbconvert_exporter": "python",
   "pygments_lexer": "ipython3",
   "version": "3.12.9"
  }
 },
 "nbformat": 4,
 "nbformat_minor": 2
}
