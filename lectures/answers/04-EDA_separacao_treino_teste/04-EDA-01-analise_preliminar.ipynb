{
 "cells": [
  {
   "cell_type": "code",
   "execution_count": 1,
   "metadata": {},
   "outputs": [],
   "source": [
    "import matplotlib.pyplot as plt\n",
    "import numpy as np\n",
    "import pandas as pd"
   ]
  },
  {
   "cell_type": "markdown",
   "metadata": {},
   "source": [
    "# Exploratory Data Analysis\n",
    "\n"
   ]
  },
  {
   "cell_type": "markdown",
   "metadata": {},
   "source": [
    "O objetivo da análise exploratória de dados (*Exploratory Data Analysis* - EDA) é conhecer os dados. Isto nos ajuda a:\n",
    "\n",
    "- *conhecer a natureza dos dados*:\n",
    "    - Importante para construir teses de extração de valor a partir destes: o que será que podemos obter destes dados para trazer mais valor ao nosso negócio?\n",
    "    - Descobrir anomalias nos dados originais:\n",
    "        - dados faltantes;\n",
    "        - *outliers*: dados raros porém legítimos;\n",
    "        - *erros e inconsistências de formatação*: dados registrados de forma errônea ou com formatos inconsistentes (e.g. datas em formatos diferentes ao longo do conjunto de dados)\n",
    "- *formular teses*:\n",
    "    - construir e validar mecanismos explicativos para a criação dos dados;\n",
    "- *construir modelos*:\n",
    "    - Modelos explicativos: \n",
    "        - baseados em formulação de teses explicativas, e geralmente são chamados de *interpretáveis*, pois seus parâmetros correspondem a idéias da tese explicativa. \n",
    "        - Por exemplo: criar um modelo linear baseado na tese de que a variável dependente se relaciona linearmente com as variáveis independentes, a menos de um ruído independente e de média zero. \n",
    "        - Os parâmetros deste modelo são comumente associados a fenômenos físicos/econômicos/biológicos/sociológicos, etc..\n",
    "        - Um dos objetivos centrais da *Estatística*\n",
    "    - Modelos preditivos não-interpretáveis: \n",
    "        - Também chamados de modelos *caixa-preta*, não permitem uma análise que associe seus parâmetros internos a alguma tese simples de funcionamento dos dados. \n",
    "        - Geralmente são modelos com maior capacidade preditiva (mas nem sempre). \n",
    "        - Este é um dos pontos centrais do *Machine Learning*. "
   ]
  },
  {
   "cell_type": "markdown",
   "metadata": {},
   "source": [
    "# Um projeto de *machine learning*"
   ]
  },
  {
   "cell_type": "markdown",
   "metadata": {},
   "source": [
    "Vamos realizar a análise exploratória de dados do projeto \"Car Prices\"."
   ]
  },
  {
   "cell_type": "code",
   "execution_count": 2,
   "metadata": {},
   "outputs": [],
   "source": [
    "from dotenv import dotenv_values\n",
    "\n",
    "config = dotenv_values()\n",
    "DATA_DIR = config['DATA_DIR']"
   ]
  },
  {
   "cell_type": "code",
   "execution_count": 3,
   "metadata": {},
   "outputs": [],
   "source": [
    "from car_prices.dataset import load_car_dataset"
   ]
  },
  {
   "cell_type": "code",
   "execution_count": 4,
   "metadata": {},
   "outputs": [],
   "source": [
    "data = load_car_dataset(DATA_DIR)"
   ]
  },
  {
   "cell_type": "markdown",
   "metadata": {},
   "source": [
    "Vamos ver se a leitura de dados funcionou:"
   ]
  },
  {
   "cell_type": "code",
   "execution_count": 5,
   "metadata": {},
   "outputs": [
    {
     "name": "stdout",
     "output_type": "stream",
     "text": [
      "<class 'pandas.core.frame.DataFrame'>\n",
      "RangeIndex: 10000 entries, 0 to 9999\n",
      "Data columns (total 10 columns):\n",
      " #   Column        Non-Null Count  Dtype  \n",
      "---  ------        --------------  -----  \n",
      " 0   Brand         10000 non-null  object \n",
      " 1   Model         10000 non-null  object \n",
      " 2   Year          10000 non-null  int64  \n",
      " 3   Engine_Size   10000 non-null  float64\n",
      " 4   Fuel_Type     10000 non-null  object \n",
      " 5   Transmission  10000 non-null  object \n",
      " 6   Mileage       10000 non-null  int64  \n",
      " 7   Doors         10000 non-null  int64  \n",
      " 8   Owner_Count   10000 non-null  int64  \n",
      " 9   Price         10000 non-null  int64  \n",
      "dtypes: float64(1), int64(5), object(4)\n",
      "memory usage: 781.4+ KB\n"
     ]
    }
   ],
   "source": [
    "data.info()"
   ]
  },
  {
   "cell_type": "code",
   "execution_count": 6,
   "metadata": {},
   "outputs": [
    {
     "data": {
      "text/html": [
       "<div>\n",
       "<style scoped>\n",
       "    .dataframe tbody tr th:only-of-type {\n",
       "        vertical-align: middle;\n",
       "    }\n",
       "\n",
       "    .dataframe tbody tr th {\n",
       "        vertical-align: top;\n",
       "    }\n",
       "\n",
       "    .dataframe thead th {\n",
       "        text-align: right;\n",
       "    }\n",
       "</style>\n",
       "<table border=\"1\" class=\"dataframe\">\n",
       "  <thead>\n",
       "    <tr style=\"text-align: right;\">\n",
       "      <th></th>\n",
       "      <th>Brand</th>\n",
       "      <th>Model</th>\n",
       "      <th>Year</th>\n",
       "      <th>Engine_Size</th>\n",
       "      <th>Fuel_Type</th>\n",
       "      <th>Transmission</th>\n",
       "      <th>Mileage</th>\n",
       "      <th>Doors</th>\n",
       "      <th>Owner_Count</th>\n",
       "      <th>Price</th>\n",
       "    </tr>\n",
       "  </thead>\n",
       "  <tbody>\n",
       "    <tr>\n",
       "      <th>0</th>\n",
       "      <td>Kia</td>\n",
       "      <td>Rio</td>\n",
       "      <td>2020</td>\n",
       "      <td>4.2</td>\n",
       "      <td>Diesel</td>\n",
       "      <td>Manual</td>\n",
       "      <td>289944</td>\n",
       "      <td>3</td>\n",
       "      <td>5</td>\n",
       "      <td>8501</td>\n",
       "    </tr>\n",
       "    <tr>\n",
       "      <th>1</th>\n",
       "      <td>Chevrolet</td>\n",
       "      <td>Malibu</td>\n",
       "      <td>2012</td>\n",
       "      <td>2.0</td>\n",
       "      <td>Hybrid</td>\n",
       "      <td>Automatic</td>\n",
       "      <td>5356</td>\n",
       "      <td>2</td>\n",
       "      <td>3</td>\n",
       "      <td>12092</td>\n",
       "    </tr>\n",
       "    <tr>\n",
       "      <th>2</th>\n",
       "      <td>Mercedes</td>\n",
       "      <td>GLA</td>\n",
       "      <td>2020</td>\n",
       "      <td>4.2</td>\n",
       "      <td>Diesel</td>\n",
       "      <td>Automatic</td>\n",
       "      <td>231440</td>\n",
       "      <td>4</td>\n",
       "      <td>2</td>\n",
       "      <td>11171</td>\n",
       "    </tr>\n",
       "    <tr>\n",
       "      <th>3</th>\n",
       "      <td>Audi</td>\n",
       "      <td>Q5</td>\n",
       "      <td>2023</td>\n",
       "      <td>2.0</td>\n",
       "      <td>Electric</td>\n",
       "      <td>Manual</td>\n",
       "      <td>160971</td>\n",
       "      <td>2</td>\n",
       "      <td>1</td>\n",
       "      <td>11780</td>\n",
       "    </tr>\n",
       "    <tr>\n",
       "      <th>4</th>\n",
       "      <td>Volkswagen</td>\n",
       "      <td>Golf</td>\n",
       "      <td>2003</td>\n",
       "      <td>2.6</td>\n",
       "      <td>Hybrid</td>\n",
       "      <td>Semi-Automatic</td>\n",
       "      <td>286618</td>\n",
       "      <td>3</td>\n",
       "      <td>3</td>\n",
       "      <td>2867</td>\n",
       "    </tr>\n",
       "  </tbody>\n",
       "</table>\n",
       "</div>"
      ],
      "text/plain": [
       "        Brand   Model  Year  Engine_Size Fuel_Type    Transmission  Mileage  \\\n",
       "0         Kia     Rio  2020          4.2    Diesel          Manual   289944   \n",
       "1   Chevrolet  Malibu  2012          2.0    Hybrid       Automatic     5356   \n",
       "2    Mercedes     GLA  2020          4.2    Diesel       Automatic   231440   \n",
       "3        Audi      Q5  2023          2.0  Electric          Manual   160971   \n",
       "4  Volkswagen    Golf  2003          2.6    Hybrid  Semi-Automatic   286618   \n",
       "\n",
       "   Doors  Owner_Count  Price  \n",
       "0      3            5   8501  \n",
       "1      2            3  12092  \n",
       "2      4            2  11171  \n",
       "3      2            1  11780  \n",
       "4      3            3   2867  "
      ]
     },
     "execution_count": 6,
     "metadata": {},
     "output_type": "execute_result"
    }
   ],
   "source": [
    "data.head(5)"
   ]
  },
  {
   "cell_type": "markdown",
   "metadata": {},
   "source": [
    "### Entendimento do negócio"
   ]
  },
  {
   "cell_type": "markdown",
   "metadata": {},
   "source": [
    "Esses dados representam informações acerca de veículos usados à venda."
   ]
  },
  {
   "cell_type": "markdown",
   "metadata": {},
   "source": [
    "***\n",
    "\n",
    "***Atividade***\n",
    "\n",
    "Escreva uma tabela com:\n",
    "\n",
    "- o nome de cada coluna;\n",
    "- seu significado;\n",
    "- tipo: inteira, real ou categórica;\n",
    "- unidade de medida.\n",
    "\n",
    "Note que uma variável como `Mileage`, apesar de ser inteira, realmente representa um valor real."
   ]
  },
  {
   "cell_type": "markdown",
   "metadata": {},
   "source": [
    "***\n",
    "\n",
    "***Resposta***\n",
    "\n",
    "| Nome da coluna | Significado           | Tipo       | Unidade de medida |\n",
    "|----------------|-----------------------|------------|-------------------|\n",
    "| Brand          | marca                 | categórica | n/a               |\n",
    "| Model          | modelo                | categórica | n/a               |\n",
    "| Year           | ano                   | inteira    | anos              |\n",
    "| Engine_Size    | cilindrada            | real       | litros            |\n",
    "| Fuel_Type      | combustível           | categórica | n/a               |\n",
    "| Transmission   | câmbio                | categórica | n/a               |\n",
    "| Mileage        | kilometragem          | real       | kilometros        |\n",
    "| Doors          | número de portas      | inteira    | contagem          |\n",
    "| Owner_Count    | quantos donos já teve | inteira    | contagem          |\n",
    "| Price          | preço de venda        | real       | USD               |"
   ]
  },
  {
   "cell_type": "markdown",
   "metadata": {},
   "source": [
    "***\n",
    "\n",
    "***Atividade***\n",
    "\n",
    "Escreva o objetivo de negócios deste projeto."
   ]
  },
  {
   "cell_type": "markdown",
   "metadata": {},
   "source": [
    "***\n",
    "\n",
    "***Resposta***\n",
    "\n",
    "Prever o preço de venda de um veículo usado baseado em sua marca, modelo, ano, características do veículo (cilindrada, combustível, câmbio, portas) e histórico do veículo (kilometragem rodada, número de antigos donos)."
   ]
  },
  {
   "cell_type": "markdown",
   "metadata": {},
   "source": [
    "### Análise exploratória"
   ]
  },
  {
   "cell_type": "markdown",
   "metadata": {},
   "source": [
    "O objetivo da análise exploratória é \"conhecer\" os dados:\n",
    "\n",
    "- Qual a distribuição de cada *feature*?\n",
    "\n",
    "- Qual a natureza de cada *feature*?\n",
    "\n",
    "    - Unidade de medida\n",
    "\n",
    "    - Se é estritamente positiva ou se pode ser positiva ou negativa\n",
    "\n",
    "    - Para que serve?\n",
    "\n",
    "- Quais e como são as distribuições conjuntas de *features*? Em particular, como as *features* se relacionam com o *target*?\n",
    "\n",
    "- Existem anomalias e erros?\n",
    "\n",
    "    - Dados faltantes\n",
    "\n",
    "    - \"Saturação\" de dados\n",
    "\n",
    "    - Outliers\n",
    "\n",
    "    - Desbalanceamento de classes\n",
    "\n",
    "    - Dados duplicados"
   ]
  },
  {
   "cell_type": "markdown",
   "metadata": {},
   "source": [
    "#### Análise exploratória: antes ou depois da separação treino-teste?"
   ]
  },
  {
   "cell_type": "markdown",
   "metadata": {},
   "source": [
    "Durante o processo de modelagem vamos dividir os dados em dois conjuntos: \"dados de treino\" e \"dados de teste\". Devemos treinar nossos modelos com o conjunto de dados de treino, e avaliar seu desempenho no conjunto de teste, para que não nos enganemos com desempenhos preditivos excelentes no conjunto de treino e que não se reproduzem no conjunto de teste!"
   ]
  },
  {
   "cell_type": "markdown",
   "metadata": {},
   "source": [
    "***\n",
    "\n",
    "***Atividade***\n",
    "\n",
    "Como se chama o fenômeno no qual temos um excelente desempenho no conjunto de treino e um desempenho bem menor no conjunto de teste?"
   ]
  },
  {
   "cell_type": "markdown",
   "metadata": {},
   "source": [
    "***\n",
    "\n",
    "***Resposta***\n",
    "\n",
    "<center>\n",
    "<span style=\"color:red;font-family:Papyrus;font-weight:bold;font-size:30px\">\n",
    "    OVERFITTING!\n",
    "</span>\n",
    "<span style=\"color:darkgray;font-size:10px\">\n",
    "    booooooo!\n",
    "</span>\n",
    "</center>"
   ]
  },
  {
   "cell_type": "markdown",
   "metadata": {},
   "source": [
    "Quando devemos fazer a análise exploratória?\n",
    "\n",
    "- Antes da separação treino-teste, ou seja, no conjunto de dados completo?\n",
    "\n",
    "- Depois da separação treino-teste, ou seja, usando apenas o conjunto de dados de treino?\n",
    "\n",
    "Esta é uma pergunta difícil de responder.\n",
    "\n",
    "- Analisar antes da separação:\n",
    "\n",
    "    - Vantagens: todo o conjunto de dados de exemplo que foi coletado está á nossa disposição para estudo, o que torna mais fácil a detecção de anomalias raras, como outliers ou a ocorrência de categorias raras em *features* categóricas.\n",
    "\n",
    "    - Desvantagens: corremos o risco de \"data snooping\" (\"bisbilhotar\" os dados), onde acabamos por aprender algo sobre os dados que pode impactar de modo \"injusto\" nossa modelagem - é como se estivéssemos \"overfittando\" sem querer!\n",
    "\n",
    "- Analisar depois da separação:\n",
    "\n",
    "    - Vantagens: reduz o risco de \"data snooping\"\n",
    "\n",
    "    - Desvantagens: podemos não perceber anomalias e erros raros nos dados, que podem impactar nossa modelagem de uma forma que é difícil de identificar.\n",
    "\n",
    "O que fazer então? Em geral, queremos balancear o risco de \"data snooping\" com o risco de não entender os detalhes mais finos e raros dos dados. Portando a recomendação é fazer análises exploratórias antes e depois da separação, com objetivos diferentes:\n",
    "\n",
    "- Análise exploratória antes da separação: faça apenas análises globais e simples, para checar a sanidade dos dados e realizar filtragens simples. Evite análises que conectem as *features* com o *target*.\n",
    "\n",
    "- Análise exploratória depois da separação: você está livre para explorar o que quiser."
   ]
  },
  {
   "cell_type": "markdown",
   "metadata": {},
   "source": [
    "#### Análise exploratória preliminar"
   ]
  },
  {
   "cell_type": "markdown",
   "metadata": {},
   "source": [
    "\n",
    "Nesta fase vamos conhecer a natureza dos dados sem explorar suas interrelações, em especial não vamos explorar a conexão entre as *features* e o *target*.\n",
    "\n",
    "Vamos proceder da seguinte forma:\n",
    "\n",
    "<table>\n",
    "\n",
    "<tr>\n",
    "<th> Etapa </th>\n",
    "<th> Objetivos </th>\n",
    "<th> Ferramentas </th>\n",
    "</tr>\n",
    "\n",
    "<tr>\n",
    "\n",
    "<td>\n",
    "    Uma análise global do volume de dados\n",
    "</td>\n",
    "\n",
    "<td>\n",
    "    <ul>\n",
    "    <li> Quais são as <em>features</em>?</li>\n",
    "    <li> Quem é o <em>target</em>?</li>\n",
    "    <li> Quais variáveis são contínuas e quais são categóricas?</li>\n",
    "    <li> Existem dados faltantes? </li>\n",
    "    <li> Existem dados duplicados? </li>\n",
    "    </ul>\n",
    "</td>\n",
    "\n",
    "<td>\n",
    "    <div>\n",
    "    <ul>\n",
    "    <li> Número de linhas e colunas </li>\n",
    "    <li> Tipo de dados de cada coluna </li>\n",
    "    <li> Remoção de linhas duplicadas <em>se isso realmente for um erro</em> </li>\n",
    "    </ul>\n",
    "    </div>\n",
    "</td>\n",
    "</tr>\n",
    "\n",
    "<tr>\n",
    "\n",
    "<td>\n",
    "    Uma primeira análise da natureza das features\n",
    "</td>\n",
    "\n",
    "<td>\n",
    "    <ul>\n",
    "    <li> Qual a unidade de medida de cada variável? </li>\n",
    "    <li> Existem anomalias? \n",
    "        <ul>\n",
    "            <li> <em>outliers</em> </li>\n",
    "            <li> erros grosseiros </li>\n",
    "            <li> <em>spikes</em> </li>\n",
    "        </ul>\n",
    "    </li>\n",
    "    <li> Para cada variável contínua\n",
    "        <ul>\n",
    "            <li> Simétrica? </li>\n",
    "            <li> Estritamente positiva/negativa? </li>\n",
    "            <li> Unimodal / multimodal? </li>\n",
    "            <li> Cauda longa à direita/esquerda? </li>\n",
    "        </ul>\n",
    "    </li>\n",
    "    <li> Para cada variável categórica\n",
    "        <ul>\n",
    "            <li>Categorias raras?</li>\n",
    "            <li>Categorias dominantes?</li>\n",
    "        </ul>\n",
    "    </li>\n",
    "    </ul>\n",
    "</td>\n",
    "\n",
    "<td>\n",
    "    <ul>\n",
    "    <li>Medidas descritivas de posição e espalhamento</li>\n",
    "    <li>Histogramas</li>\n",
    "    <li>Tabelas de frequência</li>\n",
    "    <li>Gráficos de barra</li>\n",
    "    </ul>\n",
    "</td>\n",
    "\n",
    "</tr>\n",
    "\n",
    "</table>"
   ]
  },
  {
   "cell_type": "markdown",
   "metadata": {},
   "source": [
    "##### Análise global"
   ]
  },
  {
   "cell_type": "markdown",
   "metadata": {},
   "source": [
    "Novamente, vamos conferir os tipos de dados espiando as primeiras linhas do *dataset*:"
   ]
  },
  {
   "cell_type": "code",
   "execution_count": 7,
   "metadata": {},
   "outputs": [
    {
     "data": {
      "text/html": [
       "<div>\n",
       "<style scoped>\n",
       "    .dataframe tbody tr th:only-of-type {\n",
       "        vertical-align: middle;\n",
       "    }\n",
       "\n",
       "    .dataframe tbody tr th {\n",
       "        vertical-align: top;\n",
       "    }\n",
       "\n",
       "    .dataframe thead th {\n",
       "        text-align: right;\n",
       "    }\n",
       "</style>\n",
       "<table border=\"1\" class=\"dataframe\">\n",
       "  <thead>\n",
       "    <tr style=\"text-align: right;\">\n",
       "      <th></th>\n",
       "      <th>Brand</th>\n",
       "      <th>Model</th>\n",
       "      <th>Year</th>\n",
       "      <th>Engine_Size</th>\n",
       "      <th>Fuel_Type</th>\n",
       "      <th>Transmission</th>\n",
       "      <th>Mileage</th>\n",
       "      <th>Doors</th>\n",
       "      <th>Owner_Count</th>\n",
       "      <th>Price</th>\n",
       "    </tr>\n",
       "  </thead>\n",
       "  <tbody>\n",
       "    <tr>\n",
       "      <th>0</th>\n",
       "      <td>Kia</td>\n",
       "      <td>Rio</td>\n",
       "      <td>2020</td>\n",
       "      <td>4.2</td>\n",
       "      <td>Diesel</td>\n",
       "      <td>Manual</td>\n",
       "      <td>289944</td>\n",
       "      <td>3</td>\n",
       "      <td>5</td>\n",
       "      <td>8501</td>\n",
       "    </tr>\n",
       "    <tr>\n",
       "      <th>1</th>\n",
       "      <td>Chevrolet</td>\n",
       "      <td>Malibu</td>\n",
       "      <td>2012</td>\n",
       "      <td>2.0</td>\n",
       "      <td>Hybrid</td>\n",
       "      <td>Automatic</td>\n",
       "      <td>5356</td>\n",
       "      <td>2</td>\n",
       "      <td>3</td>\n",
       "      <td>12092</td>\n",
       "    </tr>\n",
       "    <tr>\n",
       "      <th>2</th>\n",
       "      <td>Mercedes</td>\n",
       "      <td>GLA</td>\n",
       "      <td>2020</td>\n",
       "      <td>4.2</td>\n",
       "      <td>Diesel</td>\n",
       "      <td>Automatic</td>\n",
       "      <td>231440</td>\n",
       "      <td>4</td>\n",
       "      <td>2</td>\n",
       "      <td>11171</td>\n",
       "    </tr>\n",
       "    <tr>\n",
       "      <th>3</th>\n",
       "      <td>Audi</td>\n",
       "      <td>Q5</td>\n",
       "      <td>2023</td>\n",
       "      <td>2.0</td>\n",
       "      <td>Electric</td>\n",
       "      <td>Manual</td>\n",
       "      <td>160971</td>\n",
       "      <td>2</td>\n",
       "      <td>1</td>\n",
       "      <td>11780</td>\n",
       "    </tr>\n",
       "    <tr>\n",
       "      <th>4</th>\n",
       "      <td>Volkswagen</td>\n",
       "      <td>Golf</td>\n",
       "      <td>2003</td>\n",
       "      <td>2.6</td>\n",
       "      <td>Hybrid</td>\n",
       "      <td>Semi-Automatic</td>\n",
       "      <td>286618</td>\n",
       "      <td>3</td>\n",
       "      <td>3</td>\n",
       "      <td>2867</td>\n",
       "    </tr>\n",
       "  </tbody>\n",
       "</table>\n",
       "</div>"
      ],
      "text/plain": [
       "        Brand   Model  Year  Engine_Size Fuel_Type    Transmission  Mileage  \\\n",
       "0         Kia     Rio  2020          4.2    Diesel          Manual   289944   \n",
       "1   Chevrolet  Malibu  2012          2.0    Hybrid       Automatic     5356   \n",
       "2    Mercedes     GLA  2020          4.2    Diesel       Automatic   231440   \n",
       "3        Audi      Q5  2023          2.0  Electric          Manual   160971   \n",
       "4  Volkswagen    Golf  2003          2.6    Hybrid  Semi-Automatic   286618   \n",
       "\n",
       "   Doors  Owner_Count  Price  \n",
       "0      3            5   8501  \n",
       "1      2            3  12092  \n",
       "2      4            2  11171  \n",
       "3      2            1  11780  \n",
       "4      3            3   2867  "
      ]
     },
     "execution_count": 7,
     "metadata": {},
     "output_type": "execute_result"
    }
   ],
   "source": [
    "data.head(n=5)"
   ]
  },
  {
   "cell_type": "markdown",
   "metadata": {},
   "source": [
    "E vamos verificar quantos exemplos temos, e qual o tipo de dados identificado pelo Pandas para cada coluna:"
   ]
  },
  {
   "cell_type": "code",
   "execution_count": 8,
   "metadata": {},
   "outputs": [
    {
     "name": "stdout",
     "output_type": "stream",
     "text": [
      "<class 'pandas.core.frame.DataFrame'>\n",
      "RangeIndex: 10000 entries, 0 to 9999\n",
      "Data columns (total 10 columns):\n",
      " #   Column        Non-Null Count  Dtype  \n",
      "---  ------        --------------  -----  \n",
      " 0   Brand         10000 non-null  object \n",
      " 1   Model         10000 non-null  object \n",
      " 2   Year          10000 non-null  int64  \n",
      " 3   Engine_Size   10000 non-null  float64\n",
      " 4   Fuel_Type     10000 non-null  object \n",
      " 5   Transmission  10000 non-null  object \n",
      " 6   Mileage       10000 non-null  int64  \n",
      " 7   Doors         10000 non-null  int64  \n",
      " 8   Owner_Count   10000 non-null  int64  \n",
      " 9   Price         10000 non-null  int64  \n",
      "dtypes: float64(1), int64(5), object(4)\n",
      "memory usage: 781.4+ KB\n"
     ]
    }
   ],
   "source": [
    "data.info()"
   ]
  },
  {
   "cell_type": "markdown",
   "metadata": {},
   "source": [
    "***\n",
    "\n",
    "***Atividade***\n",
    "\n",
    "Crie três listas de nomes de colunas:\n",
    "\n",
    "- `real_columns` contendo as colunas numéricas de valores reais;\n",
    "- `int_columns` contendo as colunas numéricas de valores inteiros;\n",
    "- `cat_columns` contendo as colunas categóricas."
   ]
  },
  {
   "cell_type": "markdown",
   "metadata": {},
   "source": [
    "***\n",
    "\n",
    "***Resposta***"
   ]
  },
  {
   "cell_type": "code",
   "execution_count": 9,
   "metadata": {},
   "outputs": [],
   "source": [
    "real_columns = [\n",
    "    'Engine_Size',\n",
    "    'Mileage',\n",
    "    'Price',\n",
    "]\n",
    "\n",
    "int_columns = [\n",
    "    'Year',\n",
    "    'Doors',\n",
    "    'Owner_Count',\n",
    "]\n",
    "\n",
    "cat_columns = [\n",
    "    'Brand',\n",
    "    'Model',\n",
    "    'Fuel_Type',\n",
    "    'Transmission',\n",
    "]"
   ]
  },
  {
   "cell_type": "markdown",
   "metadata": {},
   "source": [
    "***\n",
    "\n",
    "***Atividade***\n",
    "\n",
    "Construa estatísticas descritivas de cada coluna usando o método `.describe()` do DataFrame `data`.\n",
    "\n",
    "Dica: aborde separadamente as `real_columns`, `int_columns` e `cat_columns`."
   ]
  },
  {
   "cell_type": "markdown",
   "metadata": {},
   "source": [
    "***\n",
    "\n",
    "***Resposta***"
   ]
  },
  {
   "cell_type": "code",
   "execution_count": 10,
   "metadata": {},
   "outputs": [
    {
     "data": {
      "text/html": [
       "<div>\n",
       "<style scoped>\n",
       "    .dataframe tbody tr th:only-of-type {\n",
       "        vertical-align: middle;\n",
       "    }\n",
       "\n",
       "    .dataframe tbody tr th {\n",
       "        vertical-align: top;\n",
       "    }\n",
       "\n",
       "    .dataframe thead th {\n",
       "        text-align: right;\n",
       "    }\n",
       "</style>\n",
       "<table border=\"1\" class=\"dataframe\">\n",
       "  <thead>\n",
       "    <tr style=\"text-align: right;\">\n",
       "      <th></th>\n",
       "      <th>Engine_Size</th>\n",
       "      <th>Mileage</th>\n",
       "      <th>Price</th>\n",
       "    </tr>\n",
       "  </thead>\n",
       "  <tbody>\n",
       "    <tr>\n",
       "      <th>count</th>\n",
       "      <td>10000.000000</td>\n",
       "      <td>10000.000000</td>\n",
       "      <td>10000.00000</td>\n",
       "    </tr>\n",
       "    <tr>\n",
       "      <th>mean</th>\n",
       "      <td>3.000560</td>\n",
       "      <td>149239.111800</td>\n",
       "      <td>8852.96440</td>\n",
       "    </tr>\n",
       "    <tr>\n",
       "      <th>std</th>\n",
       "      <td>1.149324</td>\n",
       "      <td>86322.348957</td>\n",
       "      <td>3112.59681</td>\n",
       "    </tr>\n",
       "    <tr>\n",
       "      <th>min</th>\n",
       "      <td>1.000000</td>\n",
       "      <td>25.000000</td>\n",
       "      <td>2000.00000</td>\n",
       "    </tr>\n",
       "    <tr>\n",
       "      <th>25%</th>\n",
       "      <td>2.000000</td>\n",
       "      <td>74649.250000</td>\n",
       "      <td>6646.00000</td>\n",
       "    </tr>\n",
       "    <tr>\n",
       "      <th>50%</th>\n",
       "      <td>3.000000</td>\n",
       "      <td>149587.000000</td>\n",
       "      <td>8858.50000</td>\n",
       "    </tr>\n",
       "    <tr>\n",
       "      <th>75%</th>\n",
       "      <td>4.000000</td>\n",
       "      <td>223577.500000</td>\n",
       "      <td>11086.50000</td>\n",
       "    </tr>\n",
       "    <tr>\n",
       "      <th>max</th>\n",
       "      <td>5.000000</td>\n",
       "      <td>299947.000000</td>\n",
       "      <td>18301.00000</td>\n",
       "    </tr>\n",
       "  </tbody>\n",
       "</table>\n",
       "</div>"
      ],
      "text/plain": [
       "        Engine_Size        Mileage        Price\n",
       "count  10000.000000   10000.000000  10000.00000\n",
       "mean       3.000560  149239.111800   8852.96440\n",
       "std        1.149324   86322.348957   3112.59681\n",
       "min        1.000000      25.000000   2000.00000\n",
       "25%        2.000000   74649.250000   6646.00000\n",
       "50%        3.000000  149587.000000   8858.50000\n",
       "75%        4.000000  223577.500000  11086.50000\n",
       "max        5.000000  299947.000000  18301.00000"
      ]
     },
     "execution_count": 10,
     "metadata": {},
     "output_type": "execute_result"
    }
   ],
   "source": [
    "data[real_columns].describe()"
   ]
  },
  {
   "cell_type": "code",
   "execution_count": 11,
   "metadata": {},
   "outputs": [
    {
     "data": {
      "text/html": [
       "<div>\n",
       "<style scoped>\n",
       "    .dataframe tbody tr th:only-of-type {\n",
       "        vertical-align: middle;\n",
       "    }\n",
       "\n",
       "    .dataframe tbody tr th {\n",
       "        vertical-align: top;\n",
       "    }\n",
       "\n",
       "    .dataframe thead th {\n",
       "        text-align: right;\n",
       "    }\n",
       "</style>\n",
       "<table border=\"1\" class=\"dataframe\">\n",
       "  <thead>\n",
       "    <tr style=\"text-align: right;\">\n",
       "      <th></th>\n",
       "      <th>Year</th>\n",
       "      <th>Doors</th>\n",
       "      <th>Owner_Count</th>\n",
       "    </tr>\n",
       "  </thead>\n",
       "  <tbody>\n",
       "    <tr>\n",
       "      <th>count</th>\n",
       "      <td>10000.000000</td>\n",
       "      <td>10000.000000</td>\n",
       "      <td>10000.000000</td>\n",
       "    </tr>\n",
       "    <tr>\n",
       "      <th>mean</th>\n",
       "      <td>2011.543700</td>\n",
       "      <td>3.497100</td>\n",
       "      <td>2.991100</td>\n",
       "    </tr>\n",
       "    <tr>\n",
       "      <th>std</th>\n",
       "      <td>6.897699</td>\n",
       "      <td>1.110097</td>\n",
       "      <td>1.422682</td>\n",
       "    </tr>\n",
       "    <tr>\n",
       "      <th>min</th>\n",
       "      <td>2000.000000</td>\n",
       "      <td>2.000000</td>\n",
       "      <td>1.000000</td>\n",
       "    </tr>\n",
       "    <tr>\n",
       "      <th>25%</th>\n",
       "      <td>2006.000000</td>\n",
       "      <td>3.000000</td>\n",
       "      <td>2.000000</td>\n",
       "    </tr>\n",
       "    <tr>\n",
       "      <th>50%</th>\n",
       "      <td>2012.000000</td>\n",
       "      <td>3.000000</td>\n",
       "      <td>3.000000</td>\n",
       "    </tr>\n",
       "    <tr>\n",
       "      <th>75%</th>\n",
       "      <td>2017.000000</td>\n",
       "      <td>4.000000</td>\n",
       "      <td>4.000000</td>\n",
       "    </tr>\n",
       "    <tr>\n",
       "      <th>max</th>\n",
       "      <td>2023.000000</td>\n",
       "      <td>5.000000</td>\n",
       "      <td>5.000000</td>\n",
       "    </tr>\n",
       "  </tbody>\n",
       "</table>\n",
       "</div>"
      ],
      "text/plain": [
       "               Year         Doors   Owner_Count\n",
       "count  10000.000000  10000.000000  10000.000000\n",
       "mean    2011.543700      3.497100      2.991100\n",
       "std        6.897699      1.110097      1.422682\n",
       "min     2000.000000      2.000000      1.000000\n",
       "25%     2006.000000      3.000000      2.000000\n",
       "50%     2012.000000      3.000000      3.000000\n",
       "75%     2017.000000      4.000000      4.000000\n",
       "max     2023.000000      5.000000      5.000000"
      ]
     },
     "execution_count": 11,
     "metadata": {},
     "output_type": "execute_result"
    }
   ],
   "source": [
    "data[int_columns].describe()"
   ]
  },
  {
   "cell_type": "code",
   "execution_count": 12,
   "metadata": {},
   "outputs": [
    {
     "data": {
      "text/html": [
       "<div>\n",
       "<style scoped>\n",
       "    .dataframe tbody tr th:only-of-type {\n",
       "        vertical-align: middle;\n",
       "    }\n",
       "\n",
       "    .dataframe tbody tr th {\n",
       "        vertical-align: top;\n",
       "    }\n",
       "\n",
       "    .dataframe thead th {\n",
       "        text-align: right;\n",
       "    }\n",
       "</style>\n",
       "<table border=\"1\" class=\"dataframe\">\n",
       "  <thead>\n",
       "    <tr style=\"text-align: right;\">\n",
       "      <th></th>\n",
       "      <th>Brand</th>\n",
       "      <th>Model</th>\n",
       "      <th>Fuel_Type</th>\n",
       "      <th>Transmission</th>\n",
       "    </tr>\n",
       "  </thead>\n",
       "  <tbody>\n",
       "    <tr>\n",
       "      <th>count</th>\n",
       "      <td>10000</td>\n",
       "      <td>10000</td>\n",
       "      <td>10000</td>\n",
       "      <td>10000</td>\n",
       "    </tr>\n",
       "    <tr>\n",
       "      <th>unique</th>\n",
       "      <td>10</td>\n",
       "      <td>30</td>\n",
       "      <td>4</td>\n",
       "      <td>3</td>\n",
       "    </tr>\n",
       "    <tr>\n",
       "      <th>top</th>\n",
       "      <td>Ford</td>\n",
       "      <td>Accord</td>\n",
       "      <td>Electric</td>\n",
       "      <td>Manual</td>\n",
       "    </tr>\n",
       "    <tr>\n",
       "      <th>freq</th>\n",
       "      <td>1048</td>\n",
       "      <td>365</td>\n",
       "      <td>2625</td>\n",
       "      <td>3372</td>\n",
       "    </tr>\n",
       "  </tbody>\n",
       "</table>\n",
       "</div>"
      ],
      "text/plain": [
       "        Brand   Model Fuel_Type Transmission\n",
       "count   10000   10000     10000        10000\n",
       "unique     10      30         4            3\n",
       "top      Ford  Accord  Electric       Manual\n",
       "freq     1048     365      2625         3372"
      ]
     },
     "execution_count": 12,
     "metadata": {},
     "output_type": "execute_result"
    }
   ],
   "source": [
    "data[cat_columns].describe()"
   ]
  },
  {
   "cell_type": "markdown",
   "metadata": {},
   "source": [
    "***\n",
    "\n",
    "***Atividade***\n",
    "\n",
    "Para as variáveis reais, construa seus histogramas e faça uma análise."
   ]
  },
  {
   "cell_type": "markdown",
   "metadata": {},
   "source": [
    "***\n",
    "\n",
    "***Resposta***"
   ]
  },
  {
   "cell_type": "code",
   "execution_count": 13,
   "metadata": {},
   "outputs": [],
   "source": [
    "def get_num_rows(num_graphs: int, num_cols: int) -> int:\n",
    "    '''\n",
    "    Retorna o número de linhas necessárias para exibir num_graphs gráficos\n",
    "    em num_cols colunas.\n",
    "\n",
    "    Args:\n",
    "        num_graphs: int\n",
    "            Número de gráficos a serem exibidos. Deve ser maior que 0.\n",
    "        \n",
    "        num_cols: int\n",
    "            Número de colunas a serem exibidas. Deve ser maior que 0.\n",
    "\n",
    "    Returns: int\n",
    "        Número de linhas necessárias para exibir num_graphs gráficos em\n",
    "        num_cols colunas.\n",
    "\n",
    "    Exemplo:\n",
    "        get_num_rows(5, 2) == 3\n",
    "        get_num_rows(5, 3) == 2\n",
    "        get_num_rows(5, 5) == 1\n",
    "        get_num_rows(5, 6) == 1\n",
    "\n",
    "    Para entender este código, veja a explicação no material extra.\n",
    "    '''\n",
    "    return (num_graphs - 1) // num_cols + 1"
   ]
  },
  {
   "cell_type": "code",
   "execution_count": 35,
   "metadata": {},
   "outputs": [
    {
     "data": {
      "image/png": "[encoded data removed]",
      "text/plain": [
       "<Figure size 1200x800 with 3 Axes>"
      ]
     },
     "metadata": {},
     "output_type": "display_data"
    }
   ],
   "source": [
    "n_cols = 2\n",
    "n_graphs = len(real_columns)\n",
    "n_rows = get_num_rows(n_graphs, n_cols)\n",
    "\n",
    "inches_per_col = 6\n",
    "inches_per_row = 4\n",
    "\n",
    "width = n_cols * inches_per_col\n",
    "height = n_rows * inches_per_row\n",
    "\n",
    "\n",
    "fig, axes = plt.subplots(\n",
    "    nrows=n_rows,\n",
    "    ncols=n_cols,\n",
    "    figsize=(width, height),\n",
    ")\n",
    "\n",
    "unused_axes = n_rows * n_cols - n_graphs\n",
    "for i in range(unused_axes):\n",
    "    fig.delaxes(axes.flatten()[-1 - i])\n",
    "\n",
    "ax = axes[0, 0]\n",
    "inc = 0.1\n",
    "start = 1.0\n",
    "end = 5.0\n",
    "bins = np.arange(start, end + inc, inc)\n",
    "ax.hist(data['Engine_Size'], bins=bins, density=True)\n",
    "ax.set_title('Engine_Size')\n",
    "ax.set_xlabel('Engine_Size [L]')\n",
    "ax.set_ylabel('Frequencia normalizada')\n",
    "\n",
    "ax = axes[0, 1]\n",
    "num_bins = int(np.ceil(np.sqrt(data.shape[0]))) // 2\n",
    "ax.hist(data['Mileage'], bins=num_bins, density=True)\n",
    "ax.set_title('Mileage')\n",
    "ax.set_xlabel('Mileage [km]')\n",
    "\n",
    "ax = axes[1, 0]\n",
    "num_bins = int(np.ceil(np.sqrt(data.shape[0]))) // 2\n",
    "ax.hist(data['Price'], bins=num_bins, density=True)\n",
    "ax.set_title('Price')\n",
    "ax.set_xlabel('Price [USD]')\n",
    "ax.set_ylabel('Frequencia normalizada')\n",
    "\n",
    "fig.tight_layout()\n"
   ]
  },
  {
   "cell_type": "markdown",
   "metadata": {},
   "source": [
    "Com a exceção de um pequeno *spike* no início dos preços, e um excesso de veículos com motores de baixa cilindrada (que inclusive pode explicar o *spike* nos preços baixos), não temos anomalias."
   ]
  },
  {
   "cell_type": "markdown",
   "metadata": {},
   "source": [
    "***\n",
    "\n",
    "***Atividade***\n",
    "\n",
    "Para as variáveis inteiras, faça gráficos de barra de suas contagens e analise."
   ]
  },
  {
   "cell_type": "markdown",
   "metadata": {},
   "source": [
    "***\n",
    "\n",
    "***Resposta***"
   ]
  },
  {
   "cell_type": "code",
   "execution_count": 38,
   "metadata": {},
   "outputs": [],
   "source": [
    "from IPython.display import display"
   ]
  },
  {
   "cell_type": "code",
   "execution_count": 41,
   "metadata": {},
   "outputs": [
    {
     "data": {
      "image/png": "[encoded data removed]",
      "text/plain": [
       "<Figure size 1200x800 with 3 Axes>"
      ]
     },
     "metadata": {},
     "output_type": "display_data"
    }
   ],
   "source": [
    "n_cols = 2\n",
    "n_graphs = len(int_columns)\n",
    "n_rows = get_num_rows(n_graphs, n_cols)\n",
    "\n",
    "inches_per_col = 6\n",
    "inches_per_row = 4\n",
    "\n",
    "width = n_cols * inches_per_col\n",
    "height = n_rows * inches_per_row\n",
    "\n",
    "\n",
    "fig, axes = plt.subplots(\n",
    "    nrows=n_rows,\n",
    "    ncols=n_cols,\n",
    "    figsize=(width, height),\n",
    ")\n",
    "\n",
    "unused_axes = n_rows * n_cols - n_graphs\n",
    "for i in range(unused_axes):\n",
    "    fig.delaxes(axes.flatten()[-1 - i])\n",
    "\n",
    "for ax, column in zip(axes.flatten(), int_columns):\n",
    "    counts = data[column].value_counts().sort_index()\n",
    "    ax.bar(counts.index, counts.values)\n",
    "    ax.set_title(column)\n",
    "    ax.set_xlabel(column)\n",
    "    ax.set_ylabel('Frequencia')\n",
    "\n",
    "\n",
    "fig.tight_layout()\n"
   ]
  },
  {
   "cell_type": "markdown",
   "metadata": {},
   "source": [
    "Aparentemente a amostra de carros é bem homogênea em relação ao ano de fabricação, número de portas e número de donos prévios."
   ]
  },
  {
   "cell_type": "markdown",
   "metadata": {},
   "source": [
    "***\n",
    "\n",
    "***Atividade***\n",
    "\n",
    "Construa gráficos de barras para as contagens das variáveis categóricas e analise."
   ]
  },
  {
   "cell_type": "markdown",
   "metadata": {},
   "source": [
    "***\n",
    "\n",
    "***Resposta***"
   ]
  },
  {
   "cell_type": "code",
   "execution_count": 51,
   "metadata": {},
   "outputs": [
    {
     "data": {
      "image/png": "[encoded data removed]",
      "text/plain": [
       "<Figure size 600x400 with 1 Axes>"
      ]
     },
     "metadata": {},
     "output_type": "display_data"
    },
    {
     "data": {
      "image/png": "[encoded data removed]",
      "text/plain": [
       "<Figure size 600x600 with 1 Axes>"
      ]
     },
     "metadata": {},
     "output_type": "display_data"
    },
    {
     "data": {
      "image/png": "[encoded data removed]",
      "text/plain": [
       "<Figure size 600x400 with 1 Axes>"
      ]
     },
     "metadata": {},
     "output_type": "display_data"
    },
    {
     "data": {
      "image/png": "[encoded data removed]",
      "text/plain": [
       "<Figure size 600x400 with 1 Axes>"
      ]
     },
     "metadata": {},
     "output_type": "display_data"
    }
   ],
   "source": [
    "figure_height = {\n",
    "    'Brand': 4,\n",
    "    'Model': 6,\n",
    "    'Fuel_Type': 4,\n",
    "    'Transmission': 4,\n",
    "}\n",
    "\n",
    "width = 6\n",
    "\n",
    "for column, height in figure_height.items():\n",
    "    counts = data[column].value_counts().sort_values(ascending=True)\n",
    "    plt.figure(figsize=(width, height))\n",
    "    plt.barh(counts.index, counts.values)\n",
    "    plt.title(column)\n",
    "    plt.xlabel('Frequencia')\n",
    "    plt.ylabel(column)\n",
    "    plt.tight_layout()\n",
    "    plt.show()\n"
   ]
  },
  {
   "cell_type": "markdown",
   "metadata": {},
   "source": [
    "Novamente, sem anomalias e tudo surpreendentemente balanceado."
   ]
  }
 ],
 "metadata": {
  "kernelspec": {
   "display_name": "ml",
   "language": "python",
   "name": "python3"
  },
  "language_info": {
   "codemirror_mode": {
    "name": "ipython",
    "version": 3
   },
   "file_extension": ".py",
   "mimetype": "text/x-python",
   "name": "python",
   "nbconvert_exporter": "python",
   "pygments_lexer": "ipython3",
   "version": "3.12.9"
  }
 },
 "nbformat": 4,
 "nbformat_minor": 2
}
