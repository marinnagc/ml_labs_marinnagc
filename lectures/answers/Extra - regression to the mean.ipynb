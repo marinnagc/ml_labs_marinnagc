{
 "cells": [
  {
   "cell_type": "markdown",
   "metadata": {},
   "source": [
    "# Regression to the mean"
   ]
  },
  {
   "cell_type": "markdown",
   "metadata": {},
   "source": [
    "Qual a chance de que o desempenho de um candidato na prova de seleção seja maior que seu desempenho no cotidiano? Queremos saber, matematicamente, o seguinte:\n",
    "\n",
    "$$\n",
    "P(X_i < Z) = ?\n",
    "$$"
   ]
  },
  {
   "cell_type": "markdown",
   "metadata": {},
   "source": [
    "***\n",
    "\n",
    "***Exercício***\n",
    "\n",
    "Obtenha empiricamente este valor através de simulação."
   ]
  },
  {
   "cell_type": "markdown",
   "metadata": {},
   "source": [
    "***\n",
    "\n",
    "***Resposta***"
   ]
  },
  {
   "cell_type": "code",
   "execution_count": 1,
   "metadata": {},
   "outputs": [],
   "source": [
    "import numpy as np\n",
    "\n",
    "\n",
    "def make_Z(n_experiments: int, n_candidates: int) -> np.ndarray:\n",
    "    '''Compute the maximum of n_candidates random numbers for \n",
    "    n_experiments experiments'''\n",
    "    return np.random.rand(n_experiments, n_candidates).max(axis=1)\n",
    "\n",
    "\n",
    "def make_X(n_experiments: int) -> np.ndarray:\n",
    "    '''Compute n_experiments random numbers'''\n",
    "    return np.random.rand(n_experiments)\n",
    "\n",
    "def compute_prob_X_went_down(n_experiments: int, n_candidates: int) -> float:\n",
    "    '''Compute the probability that a single random number is smaller than \n",
    "    the maximum of n_candidates random numbers'''\n",
    "    Z = make_Z(n_experiments, n_candidates)\n",
    "    X = make_X(n_experiments)\n",
    "    X_went_down = X < Z\n",
    "    prob_X_went_down = X_went_down.mean()\n",
    "    return prob_X_went_down"
   ]
  },
  {
   "cell_type": "code",
   "execution_count": 2,
   "metadata": {},
   "outputs": [],
   "source": [
    "n_experiments = 1_000_000\n",
    "n_candidates = 21"
   ]
  },
  {
   "cell_type": "code",
   "execution_count": 3,
   "metadata": {},
   "outputs": [
    {
     "name": "stdout",
     "output_type": "stream",
     "text": [
      "Probability that X went down: 95.49%\n"
     ]
    }
   ],
   "source": [
    "prob_X_went_down = compute_prob_X_went_down(n_experiments, n_candidates)\n",
    "print(f\"Probability that X went down: {prob_X_went_down:.2%}\")"
   ]
  }
 ],
 "metadata": {
  "kernelspec": {
   "display_name": "ml",
   "language": "python",
   "name": "python3"
  },
  "language_info": {
   "codemirror_mode": {
    "name": "ipython",
    "version": 3
   },
   "file_extension": ".py",
   "mimetype": "text/x-python",
   "name": "python",
   "nbconvert_exporter": "python",
   "pygments_lexer": "ipython3",
   "version": "3.12.9"
  }
 },
 "nbformat": 4,
 "nbformat_minor": 2
}
