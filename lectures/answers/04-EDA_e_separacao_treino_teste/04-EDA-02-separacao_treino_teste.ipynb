{
 "cells": [
  {
   "cell_type": "markdown",
   "metadata": {},
   "source": [
    "# Separação treino-teste"
   ]
  },
  {
   "cell_type": "markdown",
   "metadata": {},
   "source": [
    "***\n",
    "\n",
    "***Atividade***\n",
    "\n",
    "Verifique que o código acima funcionou, e que os arquivos de treino, teste e metadata foram gravados."
   ]
  },
  {
   "cell_type": "markdown",
   "metadata": {},
   "source": [
    "***\n",
    "\n",
    "***Resposta***\n",
    "\n",
    "<img src=\"train_test_metadata_files.png\" width=20%/>"
   ]
  },
  {
   "cell_type": "markdown",
   "metadata": {},
   "source": [
    "***\n",
    "\n",
    "***Atividade***\n",
    "\n",
    "Escreva uma função\n",
    "\n",
    "> ```Python\n",
    "> def load_car_dataset_split(\n",
    ">     data_dir: str | Path,\n",
    ">     project_name: str,\n",
    "> ) -> tuple[pd.DataFrame, pd.DataFrame, ExperimentConfig]:\n",
    ">     ...\n",
    "> ```\n",
    "\n",
    "que lê e retorna os conjuntos de treino, teste, e os metadados."
   ]
  },
  {
   "cell_type": "markdown",
   "metadata": {},
   "source": [
    "***\n",
    "\n",
    "***Resposta***"
   ]
  },
  {
   "cell_type": "code",
   "execution_count": null,
   "metadata": {},
   "outputs": [],
   "source": [
    "def load_car_dataset_split(\n",
    "    data_dir: str | Path,\n",
    "    project_name: str,\n",
    ") -> tuple[pd.DataFrame, pd.DataFrame, ExperimentConfig]:\n",
    "    data_dir = Path(data_dir)\n",
    "\n",
    "    split_dataset_dir = data_dir / project_name / 'processed'\n",
    "\n",
    "    train_dataset_path = split_dataset_dir / 'train.csv'\n",
    "    test_dataset_path = split_dataset_dir / 'test.csv'\n",
    "    metadata_path = split_dataset_dir / 'metadata.csv'\n",
    "\n",
    "    train_dataset = pd.read_csv(train_dataset_path)\n",
    "    test_dataset = pd.read_csv(test_dataset_path)\n",
    "\n",
    "    with open(metadata_path, 'r', encoding='utf8') as metadata_file:\n",
    "        metadata_dict = json.load(metadata_file)\n",
    "\n",
    "    metadata = ExperimentConfig(**metadata_dict)\n",
    "\n",
    "    return train_dataset, test_dataset, metadata"
   ]
  },
  {
   "cell_type": "code",
   "execution_count": null,
   "metadata": {},
   "outputs": [],
   "source": [
    "(\n",
    "    train_dataset,\n",
    "    test_dataset,\n",
    "    metadata,\n",
    ") = load_car_dataset_split(DATA_DIR, PROJECT_NAME)"
   ]
  },
  {
   "cell_type": "code",
   "execution_count": null,
   "metadata": {},
   "outputs": [],
   "source": [
    "train_dataset.info()"
   ]
  },
  {
   "cell_type": "code",
   "execution_count": null,
   "metadata": {},
   "outputs": [],
   "source": [
    "test_dataset.info()"
   ]
  },
  {
   "cell_type": "code",
   "execution_count": null,
   "metadata": {},
   "outputs": [],
   "source": [
    "metadata"
   ]
  },
  {
   "cell_type": "markdown",
   "metadata": {},
   "source": [
    "***\n",
    "\n",
    "***Atividade***\n",
    "\n",
    "Incorpore estes códigos ao projeto, no módulo `dataset.py`\n"
   ]
  },
  {
   "cell_type": "markdown",
   "metadata": {},
   "source": [
    "***\n",
    "\n",
    "***Resposta***\n",
    "\n",
    "Ver código do projeto."
   ]
  }
 ],
 "metadata": {
  "kernelspec": {
   "display_name": "ml",
   "language": "python",
   "name": "python3"
  },
  "language_info": {
   "codemirror_mode": {
    "name": "ipython",
    "version": 3
   },
   "file_extension": ".py",
   "mimetype": "text/x-python",
   "name": "python",
   "nbconvert_exporter": "python",
   "pygments_lexer": "ipython3",
   "version": "3.12.9"
  }
 },
 "nbformat": 4,
 "nbformat_minor": 2
}
