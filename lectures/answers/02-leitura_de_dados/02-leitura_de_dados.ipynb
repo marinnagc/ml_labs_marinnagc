{
 "cells": [
  {
   "cell_type": "markdown",
   "metadata": {},
   "source": [
    "# Um projeto de *machine learning*"
   ]
  },
  {
   "cell_type": "markdown",
   "metadata": {},
   "source": [
    "## Respostas"
   ]
  },
  {
   "cell_type": "markdown",
   "metadata": {},
   "source": [
    "***\n",
    "\n",
    "***Exercício***\n",
    "\n",
    "Verifique se a criação dos arquivos de dados realmente ocorreu."
   ]
  },
  {
   "cell_type": "markdown",
   "metadata": {},
   "source": [
    "***Resposta***\n",
    "\n",
    "Sim, os arquivos foram criados, eis um *screenshot* de demonstração:\n",
    "\n",
    "<img src=\"./car_price_files.png\" width=200/>\n"
   ]
  },
  {
   "cell_type": "markdown",
   "metadata": {},
   "source": [
    "***\n",
    "\n",
    "***Exercicio***\n",
    "\n",
    "Modifique o código acima para adicionar uma opção de apagar automaticamente o arquivo `.zip` original (para economizar espaço).\n",
    "\n",
    "Ou seja, altere a função:\n",
    "\n",
    "> ```Python\n",
    "> def _fetch_and_unpack_car_dataset(project_data_dir: Path) -> None:\n",
    ">     ...\n",
    "> ```\n",
    "\n",
    "para\n",
    "\n",
    "> ```Python\n",
    "> def _fetch_and_unpack_car_dataset(\n",
    ">     project_data_dir: Path,\n",
    ">     remove_original: bool,\n",
    "> ) -> None:\n",
    ">     ...\n",
    "> ```\n",
    "\n",
    "E também altere a função\n",
    "\n",
    "> ```Python\n",
    "> def load_car_dataset(data_dir: Path) -> pd.DataFrame:\n",
    ">     ...\n",
    "> ```\n",
    "\n",
    "para\n",
    "\n",
    "> ```Python\n",
    "> def load_car_dataset(\n",
    ">     data_dir: Path,\n",
    ">     remove_original: bool = False,\n",
    "> ) -> pd.DataFrame:\n",
    ">     ...\n",
    "> ```"
   ]
  },
  {
   "cell_type": "markdown",
   "metadata": {},
   "source": [
    "***Resposta***\n",
    "\n",
    "> ```Python\n",
    "> def _fetch_and_unpack_car_dataset(\n",
    ">     project_data_dir: Path,\n",
    ">     remove_original: bool,\n",
    "> ) -> None:\n",
    ">     '''Fetches and unpacks the car dataset from Kaggle.\n",
    ">     '''\n",
    ">     raw_dataset_path = project_data_dir / _COMPRESSED_CAR_DATASET_FILENAME\n",
    ">     _fetch_car_dataset(raw_dataset_path, project_data_dir)\n",
    ">     _unpack_car_dataset(raw_dataset_path, project_data_dir)\n",
    ">     if remove_original:\n",
    ">         raw_dataset_path.unlink()\n",
    "> \n",
    "> \n",
    "> def load_car_dataset(\n",
    ">     data_dir: Path,\n",
    ">     remove_original: bool = False,\n",
    "> ) -> pd.DataFrame:\n",
    ">     '''Loads the car dataset from the data_dir.\n",
    ">     '''\n",
    ">     project_data_dir = data_dir / _PROJECT_NAME\n",
    ">     dataset_path = project_data_dir / _CAR_DATASET_FILENAME\n",
    ">     if not dataset_path.exists():\n",
    ">         _fetch_and_unpack_car_dataset(\n",
    ">             project_data_dir,\n",
    ">             remove_original=remove_original,\n",
    ">         )\n",
    ">     dataset = pd.read_csv(dataset_path)\n",
    ">     return dataset\n",
    ">\n",
    "> ```"
   ]
  }
 ],
 "metadata": {
  "kernelspec": {
   "display_name": "ml",
   "language": "python",
   "name": "python3"
  },
  "language_info": {
   "codemirror_mode": {
    "name": "ipython",
    "version": 3
   },
   "file_extension": ".py",
   "mimetype": "text/x-python",
   "name": "python",
   "nbconvert_exporter": "python",
   "pygments_lexer": "ipython3",
   "version": "3.12.9"
  }
 },
 "nbformat": 4,
 "nbformat_minor": 2
}
