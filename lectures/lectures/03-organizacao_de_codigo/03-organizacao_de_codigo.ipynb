{
 "cells": [
  {
   "cell_type": "markdown",
   "metadata": {},
   "source": [
    "# Um projeto de *machine learning*"
   ]
  },
  {
   "cell_type": "markdown",
   "metadata": {},
   "source": [
    "## Criando um pacote de código Python"
   ]
  },
  {
   "cell_type": "markdown",
   "metadata": {},
   "source": [
    "Vamos agora mover o código de leitura dos dados para um pacote Python, de modo a tornar o código disponível para todos.\n",
    "\n",
    "Códigos Python são organizados em *scripts*, *módulos* e *pacotes*. Além desses tipos de código, temos também os *notebooks*, que são interativos."
   ]
  },
  {
   "cell_type": "markdown",
   "metadata": {},
   "source": [
    "### Scripts"
   ]
  },
  {
   "cell_type": "markdown",
   "metadata": {},
   "source": [
    "***Scripts*** são arquivos que contêm código Python e são executados diretamente. São arquivos com extensão `.py` feitos para serem executados pelo interpretador Python na linha de comando. Por exemplo:\n",
    "\n",
    "- Crie um diretório `meu_projeto`. Nele vamos criar um arquivo `meu_script.py`. A estrutura de diretórios ficou assim:\n",
    "\n",
    "    > ```text\n",
    "    > meu_projeto/\n",
    "    > └── meu_script.py\n",
    "    > ```\n",
    "\n",
    "- Eis um *script* Python (`meu_script.py`):\n",
    "\n",
    "    > ```Python\n",
    "    > '''Imprime uma saudação colorida na tela.\n",
    "    > '''\n",
    "    > import colorama\n",
    "    > \n",
    "    > \n",
    "    > def main() -> None:\n",
    "    >     '''Função principal do script.\n",
    "    >     '''\n",
    "    >     # Prepara a Colorama para funcionar corretamente,\n",
    "    >     # especialmente em ambientes Windows.\n",
    "    >     colorama.init()\n",
    "    > \n",
    "    >     styling = colorama.Fore.RED + colorama.Back.YELLOW + colorama.Style.BRIGHT\n",
    "    >     reset_styling = colorama.Style.RESET_ALL\n",
    "    > \n",
    "    >     print(styling + 'Hello, World!' + reset_styling)\n",
    "    > \n",
    "    >     colorama.deinit()\n",
    "    > \n",
    "    > \n",
    "    > if __name__ == '__main__':\n",
    "    >     main()\n",
    "    > ```\n",
    "\n",
    "- E podemos executar esse *script* na linha de comando:\n",
    "\n",
    "    > ```bash\n",
    "    > cd meu_projeto\n",
    "    > python meu_script.py\n",
    "    > ```"
   ]
  },
  {
   "cell_type": "markdown",
   "metadata": {},
   "source": [
    "***\n",
    "\n",
    "***Atividade***\n",
    "\n",
    "Escreva e rode os códigos acima para verificar se funcionam.\n"
   ]
  },
  {
   "cell_type": "markdown",
   "metadata": {},
   "source": [
    "### Módulos"
   ]
  },
  {
   "cell_type": "markdown",
   "metadata": {},
   "source": [
    "**Módulos** são arquivos que contêm código Python e são importados por outros módulos ou scripts. São arquivos também com extensão `.py` mas cujo propósito é ser *importado* em outros códigos, veja um exemplo:\n",
    "\n",
    "- No diretório `meu_projeto` adicione o arquivo `meu_modulo.py` abaixo. A estrutura de diretórios fica assim:\n",
    "\n",
    "    ```text\n",
    "    meu_projeto/\n",
    "    ├── meu_modulo.py\n",
    "    └── meu_script.py\n",
    "    ```\n",
    "\n",
    "- `meu_modulo.py`\n",
    "\n",
    "    > ```Python\n",
    "    > '''Módulo de exemplo para demonstrar a criação de pacotes.\n",
    "    > '''\n",
    "    > import colorama\n",
    "    > \n",
    "    > \n",
    "    > def say_hello(name: str | None = 'world') -> None:\n",
    "    >     '''Imprime uma saudação colorida na tela.\n",
    "    > \n",
    "    >     Args:\n",
    "    >         name (str, optional): Nome a ser saudado.\n",
    "    >     '''\n",
    "    >     # Prepara a Colorama para funcionar corretamente,\n",
    "    >     # especialmente em ambientes Windows.\n",
    "    >     colorama.init()\n",
    "    > \n",
    "    >     styling = colorama.Fore.RED + colorama.Back.YELLOW + colorama.Style.BRIGHT\n",
    "    >     reset_styling = colorama.Style.RESET_ALL\n",
    "    > \n",
    "    >     print(styling + f'Hello, {name}' + reset_styling)\n",
    "    > \n",
    "    >     colorama.deinit()\n",
    "    > ```\n",
    "\n",
    "- E agora modifique o *script* `meu_script.py` para que importe o módulo:\n",
    "\n",
    "    > ```Python\n",
    "    > '''Imprime uma saudação colorida na tela.\n",
    "    > '''\n",
    "    > import meu_modulo\n",
    "    > \n",
    "    > def main() -> None:\n",
    "    >     '''Função principal do script.\n",
    "    >     '''\n",
    "    >     meu_modulo.say_hello('Insper')\n",
    "    > \n",
    "    > if __name__ == '__main__':\n",
    "    >     main()\n",
    "    > ```"
   ]
  },
  {
   "cell_type": "markdown",
   "metadata": {},
   "source": [
    "***\n",
    "\n",
    "***Atividade***\n",
    "\n",
    "Escreva e rode os códigos acima para verificar se funcionam."
   ]
  },
  {
   "cell_type": "markdown",
   "metadata": {},
   "source": [
    "### Pacotes"
   ]
  },
  {
   "cell_type": "markdown",
   "metadata": {},
   "source": [
    "**Pacotes** são diretórios que contêm módulos e um arquivo especial chamado `__init__.py` (note o uso de *underscores* duplos em ambos os lados. Em Python, esses *underscores* duplos são chamados de *dunders* - *double underscores*). Eis um exemplo:\n",
    "\n",
    "- Nossa estrutura de arquivos seria assim:\n",
    "\n",
    "    > ```text\n",
    "    > meu_script.py\n",
    "    > meu_pacote/\n",
    "    > ├── __init__.py\n",
    "    > └── meu_modulo.py\n",
    "    > ```\n",
    "\n",
    "- `meu_modulo.py` é o módulo acima\n",
    "\n",
    "- `__init__.py` é um arquivo vazio\n",
    "\n",
    "- `meu_script.py` é assim:\n",
    "\n",
    "    > ```Python\n",
    "    > '''Imprime uma saudação colorida na tela.\n",
    "    > '''\n",
    "    > import meu_package.meu_modulo as mm\n",
    "    > \n",
    "    > def main() -> None:\n",
    "    >     '''Função principal do script.\n",
    "    >     '''\n",
    "    >     mm.say_hello('Insper')\n",
    "    > \n",
    "    > if __name__ == '__main__':\n",
    "    >     main()\n",
    "    > ```"
   ]
  },
  {
   "cell_type": "markdown",
   "metadata": {},
   "source": [
    "***\n",
    "\n",
    "***Atividade***\n",
    "\n",
    "Escreva e rode os códigos acima para verificar se funcionam."
   ]
  },
  {
   "cell_type": "markdown",
   "metadata": {},
   "source": [
    "### Notebooks"
   ]
  },
  {
   "cell_type": "markdown",
   "metadata": {},
   "source": [
    "E você está trabalhando aonde mesmo?"
   ]
  },
  {
   "cell_type": "markdown",
   "metadata": {},
   "source": [
    "### Pacotes instaláveis"
   ]
  },
  {
   "cell_type": "markdown",
   "metadata": {},
   "source": [
    "Quando fazemos um *pacote* Python, é importante que ele seja *localizável* pelos outros códigos. Pense em *pacotes* que você importa o tempo todo, como o *Pandas*. Este pacote não está no mesmo diretório que seu *script* ou *notebook*, como foi o caso do exemplo acima. Como ele é localizado então na hora de rodar seu código Python que importa o Pandas?\n",
    "\n",
    "Existem algumas formas de tornar um código *localizável*:\n",
    "\n",
    "- Colocar o diretório do seu pacote na variável de ambiente `PYTHONPATH`, ou\n",
    "\n",
    "- Transformar seu pacote em um pacote *instalável*\n",
    "\n",
    "Prefiro a segunda opção - ela permite que seu código evolua a ponto de um dia ser instalado diretamente do repositório central de pacotes Python, o PyPI!\n",
    "\n",
    "Para tornar seu código instalável, você precisa criar um arquivo `pyproject.toml` no seu projeto, veja o exemplo:\n",
    "\n",
    "- A estrutura de arquivos e diretórios do projeto fica assim:\n",
    "\n",
    "    > ```text\n",
    "    > meu_projeto/\n",
    "    > ├── src/\n",
    "    > │   └── meu_pacote/\n",
    "    > │       ├── __init__.py\n",
    "    > │       └── meu_modulo.py\n",
    "    > ├── notebooks/\n",
    "    > │   └── meu_notebook.ipynb\n",
    "    > ├── scripts/\n",
    "    > │   └── meu_script.py\n",
    "    > ├── pyproject.toml\n",
    "    > └── README.md\n",
    "    > ```\n",
    "\n",
    "onde `meu_modulo.py` e `meu_script` tem o conteúdo acima.\n",
    "\n",
    "- O arquivo `pyproject.toml` armazena informações à respeito do seu projeto Python como um todo, incluindo instruções para instalação dos pacotes, configuração de ferramentas de teste, etc. Para nossos propósitos vamos fazer o arquivo `pyproject.toml` mais simples possível:\n",
    "\n",
    "    > ```toml\n",
    "    > [build-system]\n",
    "    > requires = [\"setuptools>=61.0\"]\n",
    "    > build-backend = \"setuptools.build_meta\"\n",
    "    > \n",
    "    > [project]\n",
    "    > name = \"meu_pacote\"\n",
    "    > description = \"Código do projeto Saudação\"\n",
    "    > version = \"0.1.0\"\n",
    "    > readme = \"README.md\"\n",
    "    > dependencies = [\"colorama\"]\n",
    "    > ```\n",
    "\n",
    "Agora você pode instalar o pacote no seu ambiente Python. \n",
    "\n",
    "- Inicie o seu ambiente. Por exemplo `conda activate ml`. É sempre uma péssima idéia instalar pacotes no ambiente global (o `base` do `conda`, ou o Python do sistema).\n",
    "\n",
    "- Com o ambiente inicializado, mude seu diretório de trabalho no terminal para o diretório onde o arquivo `pyproject.toml` está.\n",
    "\n",
    "- Agora execute o comando de instalação do seu pacote no seu ambiente Python:\n",
    "\n",
    "    > ```bash\n",
    "    > pip install -e .\n",
    "    > ```\n",
    "\n",
    "Com isso você está instruindo o comando `pip`, de gerenciamento de pacotes Python, a instalar o seu pacote. O *flag* `-e` significa \"editável\": você pode fazer alterações à vontade no seu pacote instalado, e essas alterações estarão disponíveis para seus outros códigos."
   ]
  },
  {
   "cell_type": "markdown",
   "metadata": {},
   "source": [
    "***\n",
    "\n",
    "***Atividade***:\n",
    "\n",
    "Escreva e rode os códigos acima para ver que funcionam."
   ]
  },
  {
   "cell_type": "markdown",
   "metadata": {},
   "source": [
    "\n",
    "Agora que você domina a criação de pacotes instaláveis Python, vamos criar o projeto \"Car Prices\"."
   ]
  },
  {
   "cell_type": "markdown",
   "metadata": {},
   "source": [
    "***\n",
    "\n",
    "***Atividade***\n",
    "\n",
    "Crie a seguinte estrutura de diretórios para o seu projeto:\n",
    "\n",
    "> ```text\n",
    "> car_prices/\n",
    "> ├── src/\n",
    "> │   └── car_prices/\n",
    "> │       ├── __init__.py\n",
    "> │       └── dataset.py\n",
    "> ├── notebooks/\n",
    "> │   ├── .gitkeep\n",
    "> │   └── test_reading.ipynb\n",
    "> ├── scripts/\n",
    "> │   ├── .gitkeep\n",
    "> │   └── show_dataset_info.py\n",
    "> ├── pyproject.toml\n",
    "> └── README.md\n",
    "> ```\n",
    "\n",
    "Os arquivos `pyproject.toml`, `test_reading.ipynb` e `show_dataset_info.py` já estão implementados aqui nesta pasta, copie-os para o projeto.\n",
    "\n",
    "Note que temos uma questão acerca da variável `DATA_DIR`, que não deve ser transferida. Para resolver essa questão em definitivo, adicionei um arquivo `.env_template` na raiz deste repositório. Copie este arquivo `.env_template` para `.env` e escreva o diretório onde os dados devem ser armazenados na variável `DATA_DIR` deste arquivo. Veja nos arquivos `test_reading.ipynb` e `show_dataset_info.py` como utilizar arquivos `.env` com a biblioteca `dotenv`. (Note que o arquivo `pyproject.toml` já inclui a dependência `python-dotenv` necessária.)\n",
    "\n",
    "Agora transfira o código de leitura do *dataset* para o módulo `dataset.py`. "
   ]
  }
 ],
 "metadata": {
  "kernelspec": {
   "display_name": "ml",
   "language": "python",
   "name": "python3"
  },
  "language_info": {
   "codemirror_mode": {
    "name": "ipython",
    "version": 3
   },
   "file_extension": ".py",
   "mimetype": "text/x-python",
   "name": "python",
   "nbconvert_exporter": "python",
   "pygments_lexer": "ipython3",
   "version": "3.12.9"
  }
 },
 "nbformat": 4,
 "nbformat_minor": 2
}
