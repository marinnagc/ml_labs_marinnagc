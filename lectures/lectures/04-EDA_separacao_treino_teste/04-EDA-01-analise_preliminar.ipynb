{
 "cells": [
  {
   "cell_type": "code",
   "execution_count": null,
   "metadata": {},
   "outputs": [],
   "source": [
    "import matplotlib.pyplot as plt\n",
    "import numpy as np\n",
    "import pandas as pd"
   ]
  },
  {
   "cell_type": "markdown",
   "metadata": {},
   "source": [
    "# Exploratory Data Analysis\n",
    "\n",
    "***"
   ]
  },
  {
   "cell_type": "markdown",
   "metadata": {},
   "source": [
    "O objetivo da análise exploratória de dados (*Exploratory Data Analysis* - EDA) é conhecer os dados. Isto nos ajuda a:\n",
    "\n",
    "- *conhecer a natureza dos dados*:\n",
    "    - Importante para construir teses de extração de valor a partir destes: o que será que podemos obter destes dados para trazer mais valor ao nosso negócio?\n",
    "    - Descobrir anomalias nos dados originais:\n",
    "        - dados faltantes;\n",
    "        - *outliers*: dados raros porém legítimos;\n",
    "        - *erros e inconsistências de formatação*: dados registrados de forma errônea ou com formatos inconsistentes (e.g. datas em formatos diferentes ao longo do conjunto de dados)\n",
    "- *formular teses*:\n",
    "    - construir e validar mecanismos explicativos para a criação dos dados;\n",
    "- *construir modelos*:\n",
    "    - Modelos explicativos: \n",
    "        - baseados em formulação de teses explicativas, e geralmente são chamados de *interpretáveis*, pois seus parâmetros correspondem a idéias da tese explicativa. \n",
    "        - Por exemplo: criar um modelo linear baseado na tese de que a variável dependente se relaciona linearmente com as variáveis independentes, a menos de um ruído independente e de média zero. \n",
    "        - Os parâmetros deste modelo são comumente associados a fenômenos físicos/econômicos/biológicos/sociológicos, etc..\n",
    "        - Um dos objetivos centrais da *Estatística*\n",
    "    - Modelos preditivos não-interpretáveis: \n",
    "        - Também chamados de modelos *caixa-preta*, não permitem uma análise que associe seus parâmetros internos a alguma tese simples de funcionamento dos dados. \n",
    "        - Geralmente são modelos com maior capacidade preditiva (mas nem sempre). \n",
    "        - Este é um dos pontos centrais do *Machine Learning*. "
   ]
  },
  {
   "cell_type": "markdown",
   "metadata": {},
   "source": [
    "# Um projeto de *machine learning*"
   ]
  },
  {
   "cell_type": "markdown",
   "metadata": {},
   "source": [
    "Vamos realizar a análise exploratória de dados do projeto \"Car Prices\"."
   ]
  },
  {
   "cell_type": "code",
   "execution_count": null,
   "metadata": {},
   "outputs": [],
   "source": [
    "from dotenv import dotenv_values\n",
    "\n",
    "config = dotenv_values()\n",
    "DATA_DIR = config['DATA_DIR']"
   ]
  },
  {
   "cell_type": "code",
   "execution_count": null,
   "metadata": {},
   "outputs": [],
   "source": [
    "from car_prices.dataset import load_car_dataset\n",
    "\n",
    "data = load_car_dataset(DATA_DIR)"
   ]
  },
  {
   "cell_type": "markdown",
   "metadata": {},
   "source": [
    "Vamos ver se a leitura de dados funcionou:"
   ]
  },
  {
   "cell_type": "code",
   "execution_count": null,
   "metadata": {},
   "outputs": [],
   "source": [
    "data.info()"
   ]
  },
  {
   "cell_type": "code",
   "execution_count": null,
   "metadata": {},
   "outputs": [],
   "source": [
    "data.head(5)"
   ]
  },
  {
   "cell_type": "markdown",
   "metadata": {},
   "source": [
    "### Entendimento do negócio"
   ]
  },
  {
   "cell_type": "markdown",
   "metadata": {},
   "source": [
    "Esses dados representam informações acerca de veículos usados à venda."
   ]
  },
  {
   "cell_type": "markdown",
   "metadata": {},
   "source": [
    "***\n",
    "\n",
    "***Atividade***\n",
    "\n",
    "Escreva uma tabela com:\n",
    "\n",
    "- o nome de cada coluna;\n",
    "- seu significado;\n",
    "- tipo: inteira, real ou categórica;\n",
    "- unidade de medida.\n",
    "\n",
    "Note que uma variável como `Mileage`, apesar de ser inteira, realmente representa um valor real."
   ]
  },
  {
   "cell_type": "markdown",
   "metadata": {},
   "source": [
    "***\n",
    "\n",
    "***Resposta***"
   ]
  },
  {
   "cell_type": "markdown",
   "metadata": {},
   "source": [
    "***\n",
    "\n",
    "***Atividade***\n",
    "\n",
    "Escreva o objetivo de negócios deste projeto."
   ]
  },
  {
   "cell_type": "markdown",
   "metadata": {},
   "source": [
    "***\n",
    "\n",
    "***Resposta***"
   ]
  },
  {
   "cell_type": "markdown",
   "metadata": {},
   "source": [
    "***"
   ]
  },
  {
   "cell_type": "markdown",
   "metadata": {},
   "source": [
    "### Análise exploratória"
   ]
  },
  {
   "cell_type": "markdown",
   "metadata": {},
   "source": [
    "O objetivo da análise exploratória é \"conhecer\" os dados:\n",
    "\n",
    "- Qual a distribuição de cada *feature*?\n",
    "\n",
    "- Qual a natureza de cada *feature*?\n",
    "\n",
    "    - Unidade de medida\n",
    "\n",
    "    - Se é estritamente positiva ou se pode ser positiva ou negativa\n",
    "\n",
    "    - Para que serve?\n",
    "\n",
    "- Quais e como são as distribuições conjuntas de *features*? Em particular, como as *features* se relacionam com o *target*?\n",
    "\n",
    "- Existem anomalias e erros?\n",
    "\n",
    "    - Dados faltantes\n",
    "\n",
    "    - \"Saturação\" de dados\n",
    "\n",
    "    - Outliers\n",
    "\n",
    "    - Desbalanceamento de classes\n",
    "\n",
    "    - Dados duplicados"
   ]
  },
  {
   "cell_type": "markdown",
   "metadata": {},
   "source": [
    "#### Análise exploratória: antes ou depois da separação treino-teste?"
   ]
  },
  {
   "cell_type": "markdown",
   "metadata": {},
   "source": [
    "Durante o processo de modelagem vamos dividir os dados em dois conjuntos: \"dados de treino\" e \"dados de teste\". Devemos treinar nossos modelos com o conjunto de dados de treino, e avaliar seu desempenho no conjunto de teste, para que não nos enganemos com desempenhos preditivos excelentes no conjunto de treino e que não se reproduzem no conjunto de teste!"
   ]
  },
  {
   "cell_type": "markdown",
   "metadata": {},
   "source": [
    "***\n",
    "\n",
    "***Atividade***\n",
    "\n",
    "Como se chama o fenômeno no qual temos um excelente desempenho no conjunto de treino e um desempenho bem menor no conjunto de teste?"
   ]
  },
  {
   "cell_type": "markdown",
   "metadata": {},
   "source": [
    "***\n",
    "\n",
    "***Resposta***"
   ]
  },
  {
   "cell_type": "markdown",
   "metadata": {},
   "source": [
    "***"
   ]
  },
  {
   "cell_type": "markdown",
   "metadata": {},
   "source": [
    "Quando devemos fazer a análise exploratória?\n",
    "\n",
    "- Antes da separação treino-teste, ou seja, no conjunto de dados completo?\n",
    "\n",
    "- Depois da separação treino-teste, ou seja, usando apenas o conjunto de dados de treino?\n",
    "\n",
    "Esta é uma pergunta difícil de responder.\n",
    "\n",
    "- Analisar antes da separação:\n",
    "\n",
    "    - Vantagens: todo o conjunto de dados de exemplo que foi coletado está á nossa disposição para estudo, o que torna mais fácil a detecção de anomalias raras, como outliers ou a ocorrência de categorias raras em *features* categóricas.\n",
    "\n",
    "    - Desvantagens: corremos o risco de \"data snooping\" (\"bisbilhotar\" os dados), onde acabamos por aprender algo sobre os dados que pode impactar de modo \"injusto\" nossa modelagem - é como se estivéssemos \"overfittando\" sem querer!\n",
    "\n",
    "- Analisar depois da separação:\n",
    "\n",
    "    - Vantagens: reduz o risco de \"data snooping\"\n",
    "\n",
    "    - Desvantagens: podemos não perceber anomalias e erros raros nos dados, que podem impactar nossa modelagem de uma forma que é difícil de identificar.\n",
    "\n",
    "O que fazer então? Em geral, queremos balancear o risco de \"data snooping\" com o risco de não entender os detalhes mais finos e raros dos dados. Portando a recomendação é fazer análises exploratórias antes e depois da separação, com objetivos diferentes:\n",
    "\n",
    "- Análise exploratória antes da separação: faça apenas análises globais e simples, para checar a sanidade dos dados e realizar filtragens simples. Evite análises que conectem as *features* com o *target*.\n",
    "\n",
    "- Análise exploratória depois da separação: você está livre para explorar o que quiser."
   ]
  },
  {
   "cell_type": "markdown",
   "metadata": {},
   "source": [
    "#### Análise exploratória preliminar"
   ]
  },
  {
   "cell_type": "markdown",
   "metadata": {},
   "source": [
    "\n",
    "Nesta fase vamos conhecer a natureza dos dados sem explorar suas interrelações, em especial não vamos explorar a conexão entre as *features* e o *target*.\n",
    "\n",
    "Vamos proceder da seguinte forma:\n",
    "\n",
    "<table>\n",
    "\n",
    "<tr>\n",
    "<th> Etapa </th>\n",
    "<th> Objetivos </th>\n",
    "<th> Ferramentas </th>\n",
    "</tr>\n",
    "\n",
    "<tr>\n",
    "\n",
    "<td>\n",
    "    Uma análise global do volume de dados\n",
    "</td>\n",
    "\n",
    "<td>\n",
    "    <ul>\n",
    "    <li> Quais são as <em>features</em>?</li>\n",
    "    <li> Quem é o <em>target</em>?</li>\n",
    "    <li> Quais variáveis são contínuas e quais são categóricas?</li>\n",
    "    <li> Existem dados faltantes? </li>\n",
    "    <li> Existem dados duplicados? </li>\n",
    "    </ul>\n",
    "</td>\n",
    "\n",
    "<td>\n",
    "    <div>\n",
    "    <ul>\n",
    "    <li> Número de linhas e colunas </li>\n",
    "    <li> Tipo de dados de cada coluna </li>\n",
    "    <li> Remoção de linhas duplicadas <em>se isso realmente for um erro</em> </li>\n",
    "    </ul>\n",
    "    </div>\n",
    "</td>\n",
    "</tr>\n",
    "\n",
    "<tr>\n",
    "\n",
    "<td>\n",
    "    Uma primeira análise da natureza das features\n",
    "</td>\n",
    "\n",
    "<td>\n",
    "    <ul>\n",
    "    <li> Qual a unidade de medida de cada variável? </li>\n",
    "    <li> Existem anomalias? \n",
    "        <ul>\n",
    "            <li> <em>outliers</em> </li>\n",
    "            <li> erros grosseiros </li>\n",
    "            <li> <em>spikes</em> </li>\n",
    "        </ul>\n",
    "    </li>\n",
    "    <li> Para cada variável contínua\n",
    "        <ul>\n",
    "            <li> Simétrica? </li>\n",
    "            <li> Estritamente positiva/negativa? </li>\n",
    "            <li> Unimodal / multimodal? </li>\n",
    "            <li> Cauda longa à direita/esquerda? </li>\n",
    "        </ul>\n",
    "    </li>\n",
    "    <li> Para cada variável categórica\n",
    "        <ul>\n",
    "            <li>Categorias raras?</li>\n",
    "            <li>Categorias dominantes?</li>\n",
    "        </ul>\n",
    "    </li>\n",
    "    </ul>\n",
    "</td>\n",
    "\n",
    "<td>\n",
    "    <ul>\n",
    "    <li>Medidas descritivas de posição e espalhamento</li>\n",
    "    <li>Histogramas</li>\n",
    "    <li>Tabelas de frequência</li>\n",
    "    <li>Gráficos de barra</li>\n",
    "    </ul>\n",
    "</td>\n",
    "\n",
    "</tr>\n",
    "\n",
    "</table>"
   ]
  },
  {
   "cell_type": "markdown",
   "metadata": {},
   "source": [
    "##### Análise global"
   ]
  },
  {
   "cell_type": "markdown",
   "metadata": {},
   "source": [
    "Novamente, vamos conferir os tipos de dados espiando as primeiras linhas do *dataset*:"
   ]
  },
  {
   "cell_type": "code",
   "execution_count": null,
   "metadata": {},
   "outputs": [],
   "source": [
    "data.head(n=5)"
   ]
  },
  {
   "cell_type": "markdown",
   "metadata": {},
   "source": [
    "E vamos verificar quantos exemplos temos, e qual o tipo de dados identificado pelo Pandas para cada coluna:"
   ]
  },
  {
   "cell_type": "code",
   "execution_count": null,
   "metadata": {},
   "outputs": [],
   "source": [
    "data.info()"
   ]
  },
  {
   "cell_type": "markdown",
   "metadata": {},
   "source": [
    "***\n",
    "\n",
    "***Atividade***\n",
    "\n",
    "Crie três listas de nomes de colunas:\n",
    "\n",
    "- `real_columns` contendo as colunas numéricas de valores reais;\n",
    "- `int_columns` contendo as colunas numéricas de valores inteiros;\n",
    "- `cat_columns` contendo as colunas categóricas."
   ]
  },
  {
   "cell_type": "markdown",
   "metadata": {},
   "source": [
    "***\n",
    "\n",
    "***Resposta***"
   ]
  },
  {
   "cell_type": "markdown",
   "metadata": {},
   "source": [
    "***\n",
    "\n",
    "***Atividade***\n",
    "\n",
    "Construa estatísticas descritivas de cada coluna usando o método `.describe()` do DataFrame `data`.\n",
    "\n",
    "Dica: aborde separadamente as `real_columns`, `int_columns` e `cat_columns`."
   ]
  },
  {
   "cell_type": "markdown",
   "metadata": {},
   "source": [
    "***\n",
    "\n",
    "***Resposta***"
   ]
  },
  {
   "cell_type": "markdown",
   "metadata": {},
   "source": [
    "***\n",
    "\n",
    "***Atividade***\n",
    "\n",
    "Para as variáveis reais, construa seus histogramas e faça uma análise."
   ]
  },
  {
   "cell_type": "markdown",
   "metadata": {},
   "source": [
    "***\n",
    "\n",
    "***Resposta***"
   ]
  },
  {
   "cell_type": "markdown",
   "metadata": {},
   "source": [
    "***\n",
    "\n",
    "***Atividade***\n",
    "\n",
    "Para as variáveis inteiras, faça gráficos de barra de suas contagens e analise."
   ]
  },
  {
   "cell_type": "markdown",
   "metadata": {},
   "source": [
    "***\n",
    "\n",
    "***Resposta***"
   ]
  },
  {
   "cell_type": "markdown",
   "metadata": {},
   "source": [
    "***\n",
    "\n",
    "***Atividade***\n",
    "\n",
    "Construa gráficos de barras para as contagens das variáveis categóricas e analise."
   ]
  },
  {
   "cell_type": "markdown",
   "metadata": {},
   "source": [
    "***\n",
    "\n",
    "***Resposta***"
   ]
  },
  {
   "cell_type": "markdown",
   "metadata": {},
   "source": [
    "***"
   ]
  }
 ],
 "metadata": {
  "kernelspec": {
   "display_name": "ml",
   "language": "python",
   "name": "python3"
  },
  "language_info": {
   "codemirror_mode": {
    "name": "ipython",
    "version": 3
   },
   "file_extension": ".py",
   "mimetype": "text/x-python",
   "name": "python",
   "nbconvert_exporter": "python",
   "pygments_lexer": "ipython3",
   "version": "3.12.9"
  }
 },
 "nbformat": 4,
 "nbformat_minor": 2
}
