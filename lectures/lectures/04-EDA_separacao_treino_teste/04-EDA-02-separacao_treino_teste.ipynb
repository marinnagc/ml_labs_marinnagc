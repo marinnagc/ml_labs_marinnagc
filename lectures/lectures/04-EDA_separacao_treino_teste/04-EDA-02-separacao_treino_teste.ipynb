{
 "cells": [
  {
   "cell_type": "markdown",
   "metadata": {},
   "source": [
    "# Separação treino-teste\n",
    "\n",
    "***"
   ]
  },
  {
   "cell_type": "markdown",
   "metadata": {},
   "source": [
    "### Leitura dos dados"
   ]
  },
  {
   "cell_type": "code",
   "execution_count": null,
   "metadata": {},
   "outputs": [],
   "source": [
    "import matplotlib.pyplot as plt\n",
    "import numpy as np\n",
    "import pandas as pd"
   ]
  },
  {
   "cell_type": "code",
   "execution_count": null,
   "metadata": {},
   "outputs": [],
   "source": [
    "from dotenv import dotenv_values\n",
    "\n",
    "config = dotenv_values()\n",
    "DATA_DIR = config['DATA_DIR']"
   ]
  },
  {
   "cell_type": "code",
   "execution_count": null,
   "metadata": {},
   "outputs": [],
   "source": [
    "from car_prices.dataset import load_car_dataset"
   ]
  },
  {
   "cell_type": "code",
   "execution_count": null,
   "metadata": {},
   "outputs": [],
   "source": [
    "dataset = load_car_dataset(DATA_DIR)"
   ]
  },
  {
   "cell_type": "markdown",
   "metadata": {},
   "source": [
    "Vamos ver se a leitura de dados funcionou:"
   ]
  },
  {
   "cell_type": "code",
   "execution_count": null,
   "metadata": {},
   "outputs": [],
   "source": [
    "dataset.info()"
   ]
  },
  {
   "cell_type": "code",
   "execution_count": null,
   "metadata": {},
   "outputs": [],
   "source": [
    "dataset.head(5)"
   ]
  },
  {
   "cell_type": "markdown",
   "metadata": {},
   "source": [
    "### Separação treino-teste"
   ]
  },
  {
   "cell_type": "markdown",
   "metadata": {},
   "source": [
    "Devemos separar uma parte do conjunto de dados completo para ser usada no **treino** do modelo, e outra parte será reservada para o **teste** do modelo.\n",
    "\n",
    "A biblioteca *Scikit-Learn* já possui VÁRIAS funções e classes no módulo `sklearn.model_selection` para efetuar a separação treino-teste, com diferentes requisitos:\n",
    "\n",
    "- `train_test_split`\n",
    "\n",
    "    Esta é a função básica de separação de um dataset em treino e teste.\n",
    "\n",
    "- `ShuffleSplit`\n",
    "\n",
    "    Esta classe faz o `train_test_split` várias vezes, serve para fazer avaliação de modelos com *bootstrap* por exemplo.\n",
    "\n",
    "- `StratifiedShuffleSplit`\n",
    "\n",
    "    Esta classe faz a mesma coisa que o `ShuffleSplit`, mas permite indicar uma ou mais variáveis categóricas como critério para *estratificação*. Neste processo, os dados são inicialmente agrupados de acordo com as variáveis categóricas indicadas, e depois o `train_test_split` é realizado para cada grupo.\n",
    "\n",
    "    Na verdade, é o `train_test_split` que é um `StratifiedShuffleSplit` disfarçado, no qual a variável de estratificação é o *target*!\n",
    "\n",
    "Vamos usar somente o `train_test_split` por enquanto - só lembre-se que existem outras facilidades no *Scikit-Learn* para te ajudar em tarefas mais complexas, ok?"
   ]
  },
  {
   "cell_type": "markdown",
   "metadata": {},
   "source": [
    "### Separações treino-teste são permanentes!"
   ]
  },
  {
   "cell_type": "markdown",
   "metadata": {},
   "source": [
    "É importante que a separação treino-teste seja feita do mesmo jeito toda vez que o experimento de análise, modelagem, etc., é executado. Caso contrário corremos o risco de *data snooping*: aos poucos vamos conhecendo o *dataset* completo, e a separação treino-teste para de fazer sentido!\n",
    "\n",
    "Para fazer isso vamos sempre registrar *metadados* ou *configuração* do experimento: dados acerca dos dados do experimento! Assim conseguimos *reproducibilidade* em nossos experimentos, algo fundamental em Ciência!"
   ]
  },
  {
   "cell_type": "code",
   "execution_count": null,
   "metadata": {},
   "outputs": [],
   "source": [
    "import json\n",
    "import shutil\n",
    "from dataclasses import dataclass, asdict\n",
    "from pathlib import Path\n",
    "from typing import Any\n",
    "\n",
    "import pandas as pd\n",
    "from sklearn.model_selection import train_test_split"
   ]
  },
  {
   "cell_type": "code",
   "execution_count": null,
   "metadata": {},
   "outputs": [],
   "source": [
    "@dataclass\n",
    "class ExperimentConfig:\n",
    "    test_size: float\n",
    "    random_state: int\n",
    "\n",
    "\n",
    "def make_experiment_filepaths(\n",
    "    project_name: str,\n",
    "    data_dir: str | Path,\n",
    ") -> tuple[Path, str, str, str]:\n",
    "    data_dir = Path(data_dir)\n",
    "    split_folder = 'processed'\n",
    "    basepath = data_dir / project_name / split_folder\n",
    "\n",
    "    train_filename = 'train.csv'\n",
    "    test_filename = 'test.csv'\n",
    "    metadata_filename = 'metadata.csv'\n",
    "\n",
    "    return basepath, train_filename, test_filename, metadata_filename\n",
    "\n",
    "\n",
    "def split_train_test(\n",
    "    dataset: pd.DataFrame,\n",
    "    metadata: ExperimentConfig,\n",
    ") -> tuple[pd.DataFrame, pd.DataFrame]:\n",
    "\n",
    "    train_dataset, test_dataset = train_test_split(\n",
    "        dataset,\n",
    "        test_size=metadata.test_size,\n",
    "        random_state=metadata.random_state,\n",
    "    )\n",
    "\n",
    "    return train_dataset, test_dataset\n",
    "\n",
    "\n",
    "def save_dataset(\n",
    "    dataset: pd.DataFrame,\n",
    "    filepath: Path,\n",
    ") -> None:\n",
    "    dataset.to_csv(filepath, index=False)\n",
    "\n",
    "\n",
    "def save_metadata(\n",
    "    metadata: ExperimentConfig,\n",
    "    filepath: Path,\n",
    ") -> None:\n",
    "    metadata_dict = asdict(metadata)\n",
    "    with open(filepath, 'w', encoding='utf8') as metadata_file:\n",
    "        json.dump(metadata_dict, metadata_file, indent=4)\n",
    "\n",
    "\n",
    "def save_datasets_and_metadata(\n",
    "    train_dataset: pd.DataFrame,\n",
    "    test_dataset: pd.DataFrame,\n",
    "    metadata: ExperimentConfig,\n",
    "    data_dir: str | Path,\n",
    "    project_name: str,\n",
    ") -> None:\n",
    "    (\n",
    "        basepath,\n",
    "        train_filename,\n",
    "        test_filename,\n",
    "        metadata_filename,\n",
    "    ) = make_experiment_filepaths(\n",
    "        data_dir=data_dir,\n",
    "        project_name=project_name,\n",
    "    )\n",
    "\n",
    "    train_filepath = basepath / train_filename\n",
    "    test_filepath = basepath / test_filename\n",
    "    metadata_filepath = basepath / metadata_filename\n",
    "\n",
    "    try:\n",
    "        basepath.mkdir(parents=True, exist_ok=True)\n",
    "        save_dataset(train_dataset, train_filepath)\n",
    "        save_dataset(test_dataset, test_filepath)\n",
    "        save_metadata(metadata, metadata_filepath)\n",
    "    except OSError as e:\n",
    "        print(f'Error saving datasets and metadata: {e}')\n",
    "        shutil.rmtree(basepath)\n",
    "        raise e\n",
    "\n",
    "\n",
    "def split_train_test_and_save(\n",
    "    dataset: pd.DataFrame,\n",
    "    metadata: ExperimentConfig,\n",
    "    data_dir: str | Path,\n",
    "    project_name: str,\n",
    ") -> None:\n",
    "    train_dataset, test_dataset = split_train_test(dataset, metadata)\n",
    "    save_datasets_and_metadata(\n",
    "        train_dataset,\n",
    "        test_dataset,\n",
    "        metadata,\n",
    "        data_dir,\n",
    "        project_name,\n",
    "    )\n"
   ]
  },
  {
   "cell_type": "code",
   "execution_count": null,
   "metadata": {},
   "outputs": [],
   "source": [
    "PROJECT_NAME = 'car_price'"
   ]
  },
  {
   "cell_type": "code",
   "execution_count": null,
   "metadata": {},
   "outputs": [],
   "source": [
    "metadata = ExperimentConfig(\n",
    "    test_size=0.2,\n",
    "    random_state=42,\n",
    ")"
   ]
  },
  {
   "cell_type": "code",
   "execution_count": null,
   "metadata": {},
   "outputs": [],
   "source": [
    "split_train_test_and_save(dataset, metadata, DATA_DIR, PROJECT_NAME)"
   ]
  },
  {
   "cell_type": "markdown",
   "metadata": {},
   "source": [
    "***\n",
    "\n",
    "***Atividade***\n",
    "\n",
    "Verifique que o código acima funcionou, e que os arquivos de treino, teste e metadata foram gravados."
   ]
  },
  {
   "cell_type": "markdown",
   "metadata": {},
   "source": [
    "***\n",
    "\n",
    "***Atividade***\n",
    "\n",
    "Escreva uma função\n",
    "\n",
    "> ```Python\n",
    "> def load_car_dataset_split(\n",
    ">     data_dir: str | Path,\n",
    ">     project_name: str,\n",
    "> ) -> tuple[pd.DataFrame, pd.DataFrame, ExperimentConfig]:\n",
    ">     ...\n",
    "> ```\n",
    "\n",
    "que lê e retorna os conjuntos de treino, teste, e os metadados."
   ]
  },
  {
   "cell_type": "markdown",
   "metadata": {},
   "source": [
    "***\n",
    "\n",
    "***Atividade***\n",
    "\n",
    "Incorpore estes códigos ao projeto, no módulo `dataset.py`\n"
   ]
  }
 ],
 "metadata": {
  "kernelspec": {
   "display_name": "ml",
   "language": "python",
   "name": "python3"
  },
  "language_info": {
   "codemirror_mode": {
    "name": "ipython",
    "version": 3
   },
   "file_extension": ".py",
   "mimetype": "text/x-python",
   "name": "python",
   "nbconvert_exporter": "python",
   "pygments_lexer": "ipython3",
   "version": "3.12.9"
  }
 },
 "nbformat": 4,
 "nbformat_minor": 2
}
