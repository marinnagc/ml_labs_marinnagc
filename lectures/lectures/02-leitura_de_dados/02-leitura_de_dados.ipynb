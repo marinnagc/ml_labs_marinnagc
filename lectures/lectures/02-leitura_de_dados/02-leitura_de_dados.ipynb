{
 "cells": [
  {
   "cell_type": "markdown",
   "metadata": {},
   "source": [
    "# Um projeto de *machine learning*"
   ]
  },
  {
   "cell_type": "markdown",
   "metadata": {},
   "source": [
    "Vamos construir um exemplo de projeto de *machine learning* nestas primeiras aulas. Para isso vamos usar um *dataset* de preços de carros usados."
   ]
  },
  {
   "cell_type": "markdown",
   "metadata": {},
   "source": [
    "## Obtendo os dados"
   ]
  },
  {
   "cell_type": "markdown",
   "metadata": {},
   "source": [
    "O *dataset* vem do *site* 'Kaggle' (https://www.kaggle.com/). Sempre que possível é bom automatizar o processo de *download*, descompactação e leitura dos dados."
   ]
  },
  {
   "cell_type": "code",
   "execution_count": 1,
   "metadata": {},
   "outputs": [],
   "source": [
    "import zipfile\n",
    "from pathlib import Path\n",
    "\n",
    "import pandas as pd\n",
    "import requests\n",
    "\n",
    "_CAR_DATASET_URL = 'https://www.kaggle.com/api/v1/datasets/download/asinow/car-price-dataset'\n",
    "_TIMEOUT = 10\n",
    "_PROJECT_NAME = 'car_price'\n",
    "_COMPRESSED_CAR_DATASET_FILENAME = 'car_price_dataset.zip'\n",
    "_CAR_DATASET_FILENAME = 'car_price_dataset.csv'\n",
    "\n",
    "\n",
    "def _fetch_car_dataset(raw_dataset_path: Path, project_data_dir: Path) -> None:\n",
    "    '''Fetches the car dataset from Kaggle and saves it to the data_dir.\n",
    "    '''\n",
    "    project_data_dir.mkdir(parents=True, exist_ok=True)\n",
    "    response = requests.get(_CAR_DATASET_URL, timeout=_TIMEOUT)\n",
    "    response.raise_for_status()\n",
    "    with open(raw_dataset_path, 'wb') as f:\n",
    "        f.write(response.content)\n",
    "\n",
    "\n",
    "def _unpack_car_dataset(raw_dataset_path: Path, project_data_dir: Path) -> None:\n",
    "    '''Unpacks the car dataset from the data_dir.\n",
    "    '''\n",
    "    with zipfile.ZipFile(raw_dataset_path, 'r') as zip_ref:\n",
    "        zip_ref.extractall(project_data_dir)\n",
    "\n",
    "\n",
    "def _fetch_and_unpack_car_dataset(project_data_dir: Path) -> None:\n",
    "    '''Fetches and unpacks the car dataset from Kaggle.\n",
    "    '''\n",
    "    raw_dataset_path = project_data_dir / _COMPRESSED_CAR_DATASET_FILENAME\n",
    "    _fetch_car_dataset(raw_dataset_path, project_data_dir)\n",
    "    _unpack_car_dataset(raw_dataset_path, project_data_dir)\n",
    "\n",
    "\n",
    "def load_car_dataset(data_dir: Path) -> pd.DataFrame:\n",
    "    '''Loads the car dataset from the data_dir.\n",
    "    '''\n",
    "    project_data_dir = data_dir / _PROJECT_NAME\n",
    "    dataset_path = project_data_dir / _CAR_DATASET_FILENAME\n",
    "    if not dataset_path.exists():\n",
    "        _fetch_and_unpack_car_dataset(project_data_dir)\n",
    "    dataset = pd.read_csv(dataset_path)\n",
    "    return dataset"
   ]
  },
  {
   "cell_type": "code",
   "execution_count": 2,
   "metadata": {},
   "outputs": [],
   "source": [
    "DATA_DIR = Path.cwd().resolve().parents[2] / 'datasets'\n",
    "\n",
    "dataset = load_car_dataset(DATA_DIR)"
   ]
  },
  {
   "cell_type": "markdown",
   "metadata": {},
   "source": [
    "Verifique que o código funcionou:"
   ]
  },
  {
   "cell_type": "code",
   "execution_count": 3,
   "metadata": {},
   "outputs": [
    {
     "data": {
      "text/html": [
       "<div>\n",
       "<style scoped>\n",
       "    .dataframe tbody tr th:only-of-type {\n",
       "        vertical-align: middle;\n",
       "    }\n",
       "\n",
       "    .dataframe tbody tr th {\n",
       "        vertical-align: top;\n",
       "    }\n",
       "\n",
       "    .dataframe thead th {\n",
       "        text-align: right;\n",
       "    }\n",
       "</style>\n",
       "<table border=\"1\" class=\"dataframe\">\n",
       "  <thead>\n",
       "    <tr style=\"text-align: right;\">\n",
       "      <th></th>\n",
       "      <th>Brand</th>\n",
       "      <th>Model</th>\n",
       "      <th>Year</th>\n",
       "      <th>Engine_Size</th>\n",
       "      <th>Fuel_Type</th>\n",
       "      <th>Transmission</th>\n",
       "      <th>Mileage</th>\n",
       "      <th>Doors</th>\n",
       "      <th>Owner_Count</th>\n",
       "      <th>Price</th>\n",
       "    </tr>\n",
       "  </thead>\n",
       "  <tbody>\n",
       "    <tr>\n",
       "      <th>0</th>\n",
       "      <td>Kia</td>\n",
       "      <td>Rio</td>\n",
       "      <td>2020</td>\n",
       "      <td>4.2</td>\n",
       "      <td>Diesel</td>\n",
       "      <td>Manual</td>\n",
       "      <td>289944</td>\n",
       "      <td>3</td>\n",
       "      <td>5</td>\n",
       "      <td>8501</td>\n",
       "    </tr>\n",
       "    <tr>\n",
       "      <th>1</th>\n",
       "      <td>Chevrolet</td>\n",
       "      <td>Malibu</td>\n",
       "      <td>2012</td>\n",
       "      <td>2.0</td>\n",
       "      <td>Hybrid</td>\n",
       "      <td>Automatic</td>\n",
       "      <td>5356</td>\n",
       "      <td>2</td>\n",
       "      <td>3</td>\n",
       "      <td>12092</td>\n",
       "    </tr>\n",
       "    <tr>\n",
       "      <th>2</th>\n",
       "      <td>Mercedes</td>\n",
       "      <td>GLA</td>\n",
       "      <td>2020</td>\n",
       "      <td>4.2</td>\n",
       "      <td>Diesel</td>\n",
       "      <td>Automatic</td>\n",
       "      <td>231440</td>\n",
       "      <td>4</td>\n",
       "      <td>2</td>\n",
       "      <td>11171</td>\n",
       "    </tr>\n",
       "    <tr>\n",
       "      <th>3</th>\n",
       "      <td>Audi</td>\n",
       "      <td>Q5</td>\n",
       "      <td>2023</td>\n",
       "      <td>2.0</td>\n",
       "      <td>Electric</td>\n",
       "      <td>Manual</td>\n",
       "      <td>160971</td>\n",
       "      <td>2</td>\n",
       "      <td>1</td>\n",
       "      <td>11780</td>\n",
       "    </tr>\n",
       "    <tr>\n",
       "      <th>4</th>\n",
       "      <td>Volkswagen</td>\n",
       "      <td>Golf</td>\n",
       "      <td>2003</td>\n",
       "      <td>2.6</td>\n",
       "      <td>Hybrid</td>\n",
       "      <td>Semi-Automatic</td>\n",
       "      <td>286618</td>\n",
       "      <td>3</td>\n",
       "      <td>3</td>\n",
       "      <td>2867</td>\n",
       "    </tr>\n",
       "  </tbody>\n",
       "</table>\n",
       "</div>"
      ],
      "text/plain": [
       "        Brand   Model  Year  Engine_Size Fuel_Type    Transmission  Mileage  \\\n",
       "0         Kia     Rio  2020          4.2    Diesel          Manual   289944   \n",
       "1   Chevrolet  Malibu  2012          2.0    Hybrid       Automatic     5356   \n",
       "2    Mercedes     GLA  2020          4.2    Diesel       Automatic   231440   \n",
       "3        Audi      Q5  2023          2.0  Electric          Manual   160971   \n",
       "4  Volkswagen    Golf  2003          2.6    Hybrid  Semi-Automatic   286618   \n",
       "\n",
       "   Doors  Owner_Count  Price  \n",
       "0      3            5   8501  \n",
       "1      2            3  12092  \n",
       "2      4            2  11171  \n",
       "3      2            1  11780  \n",
       "4      3            3   2867  "
      ]
     },
     "execution_count": 3,
     "metadata": {},
     "output_type": "execute_result"
    }
   ],
   "source": [
    "dataset.head()"
   ]
  },
  {
   "cell_type": "code",
   "execution_count": 4,
   "metadata": {},
   "outputs": [
    {
     "name": "stdout",
     "output_type": "stream",
     "text": [
      "<class 'pandas.core.frame.DataFrame'>\n",
      "RangeIndex: 10000 entries, 0 to 9999\n",
      "Data columns (total 10 columns):\n",
      " #   Column        Non-Null Count  Dtype  \n",
      "---  ------        --------------  -----  \n",
      " 0   Brand         10000 non-null  object \n",
      " 1   Model         10000 non-null  object \n",
      " 2   Year          10000 non-null  int64  \n",
      " 3   Engine_Size   10000 non-null  float64\n",
      " 4   Fuel_Type     10000 non-null  object \n",
      " 5   Transmission  10000 non-null  object \n",
      " 6   Mileage       10000 non-null  int64  \n",
      " 7   Doors         10000 non-null  int64  \n",
      " 8   Owner_Count   10000 non-null  int64  \n",
      " 9   Price         10000 non-null  int64  \n",
      "dtypes: float64(1), int64(5), object(4)\n",
      "memory usage: 781.4+ KB\n"
     ]
    }
   ],
   "source": [
    "dataset.info()"
   ]
  },
  {
   "cell_type": "markdown",
   "metadata": {},
   "source": [
    "Parece que deu tudo certo com este dataset."
   ]
  },
  {
   "cell_type": "markdown",
   "metadata": {},
   "source": [
    "***\n",
    "\n",
    "***Exercício***\n",
    "\n",
    "Verifique se a criação dos arquivos de dados realmente ocorreu."
   ]
  },
  {
   "cell_type": "markdown",
   "metadata": {},
   "source": [
    "***\n",
    "\n",
    "***Exercicio***\n",
    "\n",
    "Modifique o código acima para adicionar uma opção de apagar automaticamente o arquivo `.zip` original (para economizar espaço).\n",
    "\n",
    "Ou seja, altere a função:\n",
    "\n",
    "> ```Python\n",
    "> def _fetch_and_unpack_car_dataset(project_data_dir: Path) -> None:\n",
    ">     ...\n",
    "> ```\n",
    "\n",
    "para\n",
    "\n",
    "> ```Python\n",
    "> def _fetch_and_unpack_car_dataset(\n",
    ">     project_data_dir: Path,\n",
    ">     remove_original: bool,\n",
    "> ) -> None:\n",
    ">     ...\n",
    "> ```\n",
    "\n",
    "E também altere a função\n",
    "\n",
    "> ```Python\n",
    "> def load_car_dataset(data_dir: Path) -> pd.DataFrame:\n",
    ">     ...\n",
    "> ```\n",
    "\n",
    "para\n",
    "\n",
    "> ```Python\n",
    "> def load_car_dataset(\n",
    ">     data_dir: Path,\n",
    ">     remove_original: bool = False,\n",
    "> ) -> pd.DataFrame:\n",
    ">     ...\n",
    "> ```"
   ]
  }
 ],
 "metadata": {
  "kernelspec": {
   "display_name": "ml",
   "language": "python",
   "name": "python3"
  },
  "language_info": {
   "codemirror_mode": {
    "name": "ipython",
    "version": 3
   },
   "file_extension": ".py",
   "mimetype": "text/x-python",
   "name": "python",
   "nbconvert_exporter": "python",
   "pygments_lexer": "ipython3",
   "version": "3.12.9"
  }
 },
 "nbformat": 4,
 "nbformat_minor": 2
}
