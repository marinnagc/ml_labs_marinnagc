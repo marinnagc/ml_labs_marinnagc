{
 "cells": [
  {
   "cell_type": "markdown",
   "metadata": {},
   "source": [
    "# Regression to the mean"
   ]
  },
  {
   "cell_type": "code",
   "execution_count": 1,
   "metadata": {},
   "outputs": [],
   "source": [
    "import numpy as np\n",
    "\n",
    "RANDOM_SEED = 42\n",
    "np.random.seed(RANDOM_SEED)"
   ]
  },
  {
   "cell_type": "markdown",
   "metadata": {},
   "source": [
    "Suponha que temos vários candidatos para uma vaga na nossa empresa. Cada um vai fazer uma prova e receberá uma nota de zero a um.\n",
    "\n",
    "O que a gente não sabe é que, na verdade, os candidatos são idênticos, e suas notas são perfeitas variáveis aleatórias entre zero e um!\n",
    "\n",
    "Então, aplicamos nossa prova e eis o resultado:"
   ]
  },
  {
   "cell_type": "code",
   "execution_count": 2,
   "metadata": {},
   "outputs": [],
   "source": [
    "candidatos = {\n",
    "    'Ana': np.random.rand,\n",
    "    'Beatriz': np.random.rand,\n",
    "    'Carlos': np.random.rand,\n",
    "    'Daniel': np.random.rand,\n",
    "    'Eduardo': np.random.rand,\n",
    "    'Francisco': np.random.rand,\n",
    "    'Gabriel': np.random.rand,\n",
    "    'Helena': np.random.rand,\n",
    "    'Isabel': np.random.rand,\n",
    "    'João': np.random.rand,\n",
    "    'Lucas': np.random.rand,\n",
    "    'Maria': np.random.rand,\n",
    "    'Natália': np.random.rand,\n",
    "    'Pedro': np.random.rand,\n",
    "    'Ricardo': np.random.rand,\n",
    "    'Sofia': np.random.rand,\n",
    "    'Tomás': np.random.rand,\n",
    "    'Victor': np.random.rand,\n",
    "    'Xenia': np.random.rand,\n",
    "    'Yasmin': np.random.rand,\n",
    "    'Zara': np.random.rand,\n",
    "}"
   ]
  },
  {
   "cell_type": "code",
   "execution_count": 3,
   "metadata": {},
   "outputs": [],
   "source": [
    "notas = {candidato: f() for candidato, f in candidatos.items()}"
   ]
  },
  {
   "cell_type": "code",
   "execution_count": 4,
   "metadata": {},
   "outputs": [
    {
     "name": "stdout",
     "output_type": "stream",
     "text": [
      "\"Ana\" obteve nota 0.37\n",
      "\"Beatriz\" obteve nota 0.95\n",
      "\"Carlos\" obteve nota 0.73\n",
      "\"Daniel\" obteve nota 0.60\n",
      "\"Eduardo\" obteve nota 0.16\n",
      "\"Francisco\" obteve nota 0.16\n",
      "\"Gabriel\" obteve nota 0.06\n",
      "\"Helena\" obteve nota 0.87\n",
      "\"Isabel\" obteve nota 0.60\n",
      "\"João\" obteve nota 0.71\n",
      "\"Lucas\" obteve nota 0.02\n",
      "\"Maria\" obteve nota 0.97\n",
      "\"Natália\" obteve nota 0.83\n",
      "\"Pedro\" obteve nota 0.21\n",
      "\"Ricardo\" obteve nota 0.18\n",
      "\"Sofia\" obteve nota 0.18\n",
      "\"Tomás\" obteve nota 0.30\n",
      "\"Victor\" obteve nota 0.52\n",
      "\"Xenia\" obteve nota 0.43\n",
      "\"Yasmin\" obteve nota 0.29\n",
      "\"Zara\" obteve nota 0.61\n"
     ]
    }
   ],
   "source": [
    "for candidato, nota in notas.items():\n",
    "    print(f'\"{candidato}\" obteve nota {nota:.2f}')"
   ]
  },
  {
   "cell_type": "code",
   "execution_count": 5,
   "metadata": {},
   "outputs": [
    {
     "name": "stdout",
     "output_type": "stream",
     "text": [
      "\"Maria\" venceu com nota 0.97\n"
     ]
    }
   ],
   "source": [
    "vencedor = max(notas, key=notas.get)\n",
    "melhor_nota = notas[vencedor]\n",
    "print(f'\"{vencedor}\" venceu com nota {melhor_nota:.2f}')"
   ]
  },
  {
   "cell_type": "markdown",
   "metadata": {},
   "source": [
    "Agora contratamos o melhor candidato. Vamos passar uma tarefa para ele e novamente medir a qualidade do seu desempenho - uma nota entre zero e um, como na prova."
   ]
  },
  {
   "cell_type": "code",
   "execution_count": 6,
   "metadata": {},
   "outputs": [
    {
     "name": "stdout",
     "output_type": "stream",
     "text": [
      "Nota nova de \"Maria\": 0.14\n"
     ]
    }
   ],
   "source": [
    "nota_nova = candidatos[vencedor]()\n",
    "print(f'Nota nova de \"{vencedor}\": {nota_nova:.2f}')"
   ]
  },
  {
   "cell_type": "markdown",
   "metadata": {},
   "source": [
    "Epa, como assim? Muito provavelmente o desempenho do novo funcionário não é tão estelar como foi seu desempenho na prova de seleção! Ele ficou menos competente nesse período?\n",
    "\n",
    "Não, o que aconteceu é que o desempenho do melhor candidato na prova foi justamente isso: o melhor desempenho observado entre os candidatos! Não foi uma medida \"inocente\" de desempenho de alguem, mas sim um desempenho que foi escolhido justamente por ser o mais alto de uma lista de desempenhos medidos. Matematicamente:\n",
    "\n",
    "- A nota potencial de cada candidato é obtida da sua distribuição de probabilidade de notas. Neste exemplo, todos tem a mesma distribuição:\n",
    "\n",
    "    $$\n",
    "    X_{i} \\sim U(0, 1)\n",
    "    $$\n",
    "\n",
    "    (a nota de cada um é uma amostra de uma distribuição uniforme entre zero e um)\n",
    "\n",
    "- A *maior* nota é, portanto, outra variável aleatória:\n",
    "\n",
    "    $$\n",
    "    Z = \\max_{i}{X_i}\n",
    "    $$\n",
    "\n",
    "Vamos comparar as distribuições de $X_{i}$ e $Z$:"
   ]
  },
  {
   "cell_type": "code",
   "execution_count": 7,
   "metadata": {},
   "outputs": [
    {
     "name": "stdout",
     "output_type": "stream",
     "text": [
      "Número de candidatos: 21\n"
     ]
    }
   ],
   "source": [
    "n_candidatos = len(candidatos)\n",
    "\n",
    "print(f'Número de candidatos: {n_candidatos}')"
   ]
  },
  {
   "cell_type": "code",
   "execution_count": 8,
   "metadata": {},
   "outputs": [],
   "source": [
    "n_experimentos = 1_000_000\n",
    "notas_obtidas = np.random.rand(n_experimentos, n_candidatos)"
   ]
  },
  {
   "cell_type": "code",
   "execution_count": 9,
   "metadata": {},
   "outputs": [],
   "source": [
    "import matplotlib.pyplot as plt"
   ]
  },
  {
   "cell_type": "code",
   "execution_count": 10,
   "metadata": {},
   "outputs": [
    {
     "data": {
      "image/png": "[encoded data removed]",
      "text/plain": [
       "<Figure size 640x480 with 1 Axes>"
      ]
     },
     "metadata": {},
     "output_type": "display_data"
    }
   ],
   "source": [
    "plt.figure()\n",
    "val, bins, _ = plt.hist(notas_obtidas.flatten(), bins=100, density=True)\n",
    "plt.xlabel('Nota')\n",
    "plt.ylabel('Densidade')\n",
    "plt.title('Distribuição de notas individuais $X_{i}$')\n",
    "plt.xlim(0, 1)\n",
    "plt.grid(True)\n",
    "plt.show()"
   ]
  },
  {
   "cell_type": "code",
   "execution_count": 11,
   "metadata": {},
   "outputs": [],
   "source": [
    "max_nota = notas_obtidas.max(axis=1)"
   ]
  },
  {
   "cell_type": "code",
   "execution_count": 12,
   "metadata": {},
   "outputs": [
    {
     "data": {
      "image/png": "[encoded data removed]",
      "text/plain": [
       "<Figure size 640x480 with 1 Axes>"
      ]
     },
     "metadata": {},
     "output_type": "display_data"
    }
   ],
   "source": [
    "plt.figure()\n",
    "val_max, bins_max, _ = plt.hist(max_nota, bins=100, density=True)\n",
    "plt.xlabel('Nota')\n",
    "plt.ylabel('Densidade')\n",
    "plt.title('Distribuição de notas máximas $Z$')\n",
    "plt.xlim(0, 1)\n",
    "plt.grid(True)\n",
    "plt.show()"
   ]
  },
  {
   "cell_type": "markdown",
   "metadata": {},
   "source": [
    "Qual a chance de que o desempenho de um candidato na prova de seleção seja maior que seu desempenho no cotidiano? Queremos saber, matematicamente, o seguinte:\n",
    "\n",
    "$$\n",
    "P(X_i < Z) = ?\n",
    "$$"
   ]
  },
  {
   "cell_type": "markdown",
   "metadata": {},
   "source": [
    "***\n",
    "\n",
    "***Exercício***\n",
    "\n",
    "Obtenha empiricamente este valor através de simulação."
   ]
  }
 ],
 "metadata": {
  "kernelspec": {
   "display_name": "ml",
   "language": "python",
   "name": "python3"
  },
  "language_info": {
   "codemirror_mode": {
    "name": "ipython",
    "version": 3
   },
   "file_extension": ".py",
   "mimetype": "text/x-python",
   "name": "python",
   "nbconvert_exporter": "python",
   "pygments_lexer": "ipython3",
   "version": "3.12.9"
  }
 },
 "nbformat": 4,
 "nbformat_minor": 2
}
