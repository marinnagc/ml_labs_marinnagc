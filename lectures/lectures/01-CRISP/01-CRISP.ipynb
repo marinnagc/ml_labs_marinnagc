{
 "cells": [
  {
   "cell_type": "markdown",
   "metadata": {},
   "source": [
    "# A organização de um projeto de *Machine Learning*\n",
    "---"
   ]
  },
  {
   "cell_type": "markdown",
   "metadata": {},
   "source": [
    "## O processo CRISP-DM"
   ]
  },
  {
   "cell_type": "markdown",
   "metadata": {},
   "source": [
    "CRISP-DM: CRoss-Industry Standard Process for Data Mining\n",
    "\n",
    "***Atividade***: Leia o artigo \"The CRISP-DM Model: The New Blueprint for Data Mining\" (arquivo [`crisp-dm.pdf`](../../resources/crisp-dm.pdf)) e responda:"
   ]
  },
  {
   "cell_type": "markdown",
   "metadata": {},
   "source": [
    "1. O CRISP-DM é um processo de gerenciamento de equipes ou de estruturação de projetos?"
   ]
  },
  {
   "cell_type": "markdown",
   "metadata": {},
   "source": [
    "2. Construa uma explicação do ciclo do CRISP-DM conforme visto na figura abaixo. Preste atenção especial para o fato de que temos setas bidirecionais entre \"Business Understanding\" e \"Data Understanding\", e entre \"Data Preparation\" e \"Modeling\" - porque os autores se deram ao trabalho de fazer isso?\n",
    "\n",
    "![CRISP-DM diagram](../../resources/crisp-dm.png)\n",
    "\n",
    "Fonte: Kenneth Jensen, CC BY-SA 3.0 <https://creativecommons.org/licenses/by-sa/3.0>, via Wikimedia Commons. https://commons.wikimedia.org/wiki/File:CRISP-DM_Process_Diagram.png"
   ]
  },
  {
   "cell_type": "markdown",
   "metadata": {},
   "source": [
    "3. Segundo o artigo, qual a porcentagem do tempo que se gasta, tipicamente, em cada uma das fases?"
   ]
  },
  {
   "cell_type": "markdown",
   "metadata": {},
   "source": [
    "## As fases de um projeto de *Machine Learning*"
   ]
  },
  {
   "cell_type": "markdown",
   "metadata": {},
   "source": [
    "Como visto no modelo CRISP-DM, um projeto de *data science* (e consequentemente, de *machine Learning*) evolui em ciclos. Cada ciclo compreende as fases de:\n",
    "\n",
    "- Entendimento dos dados e do negócio: são as etapas \"Business Understanding\" e \"Data Understanding\". Nestas etapas são construídas análises exploratórias para ajudar no levantamento de objetivos e de idéias de modelagem.\n",
    "\n",
    "- Modelagem: são as etapas \"Data Preparation\" e \"Modeling\", que vamos detalhar mais a seguir. O resultado final desta etapa é a escolha de um modelo a ser avaliado e, caso seja satisfatório, enviado para produção.\n",
    "\n",
    "- Certificação: é a etapa \"Evaluation\", onde vamos avaliar o desempenho do modelo em dados \"out-of-sample\", que não tenham sido usados para treinar o modelo.\n",
    "\n",
    "- Produção: é a etapa \"Deployment\", onde retreinamos o modelo no conjunto completo de dados e o enviamos para produção.\n",
    "\n",
    "Vamos ver em maiores detalhes cada fase:"
   ]
  },
  {
   "cell_type": "markdown",
   "metadata": {},
   "source": [
    "### Entendimento de dados e contexto de negócios"
   ]
  },
  {
   "cell_type": "markdown",
   "metadata": {},
   "source": [
    "Nesta fase vamos realizar as seguintes atividades:\n",
    "\n",
    "- Análise exploratória preliminar: Realiza-se uma análise dos dados antes da separação treino-teste, com o objetivo de conhecer a natureza das *features* e *target* isoladamente, sem observar *interrelações* entre elas.\n",
    "\n",
    "    - Foco no comportamento individual das *features* e do *target*\n",
    "\n",
    "        - Estatísticas descritivas: média, desvio padrão, mediana, quartis, máximo, mínimo, etc.\n",
    "\n",
    "        - Visualizações: histogramas, gráficos de barra \n",
    "\n",
    "- Separação treino-teste: \n",
    "\n",
    "    - Dividimos aleatoriamente o conjunto de dados em duas partes:\n",
    "\n",
    "        - Conjunto de treino: contém a maior parte dos dados (tipicamente entre $2/3$ a $4/5$ dos dados)\n",
    "\n",
    "        - Conjunto de teste: o restante.\n",
    "\n",
    "    - O motivo desta divisão é reservar uma parte do conjunto de dados que não será explorada nem modelada antes de que *todas as decisões de modelagem tenham sido tomadas*, para não contaminar nosso *design* de modelos com conhecimento (involuntário ou não) acerca dos dados em que o modelo será testado.\n",
    "\n",
    "- Análise exploratória posterior: nesta fase iremos analisar em detalhes os dados do conjunto de treino. Vamos investigar relações entre *features*, e de *feature* para *target*.\n",
    "\n",
    "Ao término desta atividade devemos ter adquirido conhecimento sobre os dados para:\n",
    "\n",
    "- Filtragem de dados: podemos decidir que nossa modelagem **não** incluirá certos dados, que foram considerados indesejáveis durante o processo de análise exploratória:\n",
    "\n",
    "    - *outliers*: dados legítimos porém raros e extremos\n",
    "\n",
    "    - *erros*: dados errôneos que acabaram sendo gravados no *dataset*\n",
    "\n",
    "    - anomalias: saturação, censura de dados\n",
    "\n",
    "    - escolhas de segmentação dos dados\n",
    "\n",
    "- Transformação de dados: após a filtragem podemos conceber *transformações* de dados que não eliminam amostras, só criam, removem e modificam colunas do *dataset*\n"
   ]
  },
  {
   "cell_type": "markdown",
   "metadata": {},
   "source": [
    "### Modelagem"
   ]
  },
  {
   "cell_type": "markdown",
   "metadata": {},
   "source": [
    "Na etapa anterior nosso objetivo era aquisição de conhecimento. Agora vamos realmente experimentar com diversas alternativas de modelagem de dados."
   ]
  },
  {
   "cell_type": "markdown",
   "metadata": {},
   "source": []
  }
 ],
 "metadata": {
  "language_info": {
   "name": "python"
  }
 },
 "nbformat": 4,
 "nbformat_minor": 2
}
