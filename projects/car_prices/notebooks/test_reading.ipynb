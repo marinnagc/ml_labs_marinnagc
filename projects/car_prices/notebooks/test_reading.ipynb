{
 "cells": [
  {
   "cell_type": "code",
   "execution_count": 1,
   "metadata": {},
   "outputs": [
    {
     "name": "stdout",
     "output_type": "stream",
     "text": [
      "Data dir: /home/fjayres/dev/ml_labs/datasets\n"
     ]
    }
   ],
   "source": [
    "import dotenv\n",
    "\n",
    "env = dotenv.dotenv_values()\n",
    "data_dir = env['DATA_DIR']\n",
    "\n",
    "print(f\"Data dir: {data_dir}\")"
   ]
  },
  {
   "cell_type": "code",
   "execution_count": 2,
   "metadata": {},
   "outputs": [],
   "source": [
    "from car_prices.dataset import load_car_dataset\n",
    "\n",
    "data = load_car_dataset(data_dir)"
   ]
  },
  {
   "cell_type": "code",
   "execution_count": 3,
   "metadata": {},
   "outputs": [
    {
     "data": {
      "text/html": [
       "<div>\n",
       "<style scoped>\n",
       "    .dataframe tbody tr th:only-of-type {\n",
       "        vertical-align: middle;\n",
       "    }\n",
       "\n",
       "    .dataframe tbody tr th {\n",
       "        vertical-align: top;\n",
       "    }\n",
       "\n",
       "    .dataframe thead th {\n",
       "        text-align: right;\n",
       "    }\n",
       "</style>\n",
       "<table border=\"1\" class=\"dataframe\">\n",
       "  <thead>\n",
       "    <tr style=\"text-align: right;\">\n",
       "      <th></th>\n",
       "      <th>Brand</th>\n",
       "      <th>Model</th>\n",
       "      <th>Year</th>\n",
       "      <th>Engine_Size</th>\n",
       "      <th>Fuel_Type</th>\n",
       "      <th>Transmission</th>\n",
       "      <th>Mileage</th>\n",
       "      <th>Doors</th>\n",
       "      <th>Owner_Count</th>\n",
       "      <th>Price</th>\n",
       "    </tr>\n",
       "  </thead>\n",
       "  <tbody>\n",
       "    <tr>\n",
       "      <th>0</th>\n",
       "      <td>Kia</td>\n",
       "      <td>Rio</td>\n",
       "      <td>2020</td>\n",
       "      <td>4.2</td>\n",
       "      <td>Diesel</td>\n",
       "      <td>Manual</td>\n",
       "      <td>289944</td>\n",
       "      <td>3</td>\n",
       "      <td>5</td>\n",
       "      <td>8501</td>\n",
       "    </tr>\n",
       "    <tr>\n",
       "      <th>1</th>\n",
       "      <td>Chevrolet</td>\n",
       "      <td>Malibu</td>\n",
       "      <td>2012</td>\n",
       "      <td>2.0</td>\n",
       "      <td>Hybrid</td>\n",
       "      <td>Automatic</td>\n",
       "      <td>5356</td>\n",
       "      <td>2</td>\n",
       "      <td>3</td>\n",
       "      <td>12092</td>\n",
       "    </tr>\n",
       "    <tr>\n",
       "      <th>2</th>\n",
       "      <td>Mercedes</td>\n",
       "      <td>GLA</td>\n",
       "      <td>2020</td>\n",
       "      <td>4.2</td>\n",
       "      <td>Diesel</td>\n",
       "      <td>Automatic</td>\n",
       "      <td>231440</td>\n",
       "      <td>4</td>\n",
       "      <td>2</td>\n",
       "      <td>11171</td>\n",
       "    </tr>\n",
       "    <tr>\n",
       "      <th>3</th>\n",
       "      <td>Audi</td>\n",
       "      <td>Q5</td>\n",
       "      <td>2023</td>\n",
       "      <td>2.0</td>\n",
       "      <td>Electric</td>\n",
       "      <td>Manual</td>\n",
       "      <td>160971</td>\n",
       "      <td>2</td>\n",
       "      <td>1</td>\n",
       "      <td>11780</td>\n",
       "    </tr>\n",
       "    <tr>\n",
       "      <th>4</th>\n",
       "      <td>Volkswagen</td>\n",
       "      <td>Golf</td>\n",
       "      <td>2003</td>\n",
       "      <td>2.6</td>\n",
       "      <td>Hybrid</td>\n",
       "      <td>Semi-Automatic</td>\n",
       "      <td>286618</td>\n",
       "      <td>3</td>\n",
       "      <td>3</td>\n",
       "      <td>2867</td>\n",
       "    </tr>\n",
       "  </tbody>\n",
       "</table>\n",
       "</div>"
      ],
      "text/plain": [
       "        Brand   Model  Year  Engine_Size Fuel_Type    Transmission  Mileage  \\\n",
       "0         Kia     Rio  2020          4.2    Diesel          Manual   289944   \n",
       "1   Chevrolet  Malibu  2012          2.0    Hybrid       Automatic     5356   \n",
       "2    Mercedes     GLA  2020          4.2    Diesel       Automatic   231440   \n",
       "3        Audi      Q5  2023          2.0  Electric          Manual   160971   \n",
       "4  Volkswagen    Golf  2003          2.6    Hybrid  Semi-Automatic   286618   \n",
       "\n",
       "   Doors  Owner_Count  Price  \n",
       "0      3            5   8501  \n",
       "1      2            3  12092  \n",
       "2      4            2  11171  \n",
       "3      2            1  11780  \n",
       "4      3            3   2867  "
      ]
     },
     "execution_count": 3,
     "metadata": {},
     "output_type": "execute_result"
    }
   ],
   "source": [
    "data.head()"
   ]
  },
  {
   "cell_type": "code",
   "execution_count": 4,
   "metadata": {},
   "outputs": [
    {
     "name": "stdout",
     "output_type": "stream",
     "text": [
      "<class 'pandas.core.frame.DataFrame'>\n",
      "RangeIndex: 10000 entries, 0 to 9999\n",
      "Data columns (total 10 columns):\n",
      " #   Column        Non-Null Count  Dtype  \n",
      "---  ------        --------------  -----  \n",
      " 0   Brand         10000 non-null  object \n",
      " 1   Model         10000 non-null  object \n",
      " 2   Year          10000 non-null  int64  \n",
      " 3   Engine_Size   10000 non-null  float64\n",
      " 4   Fuel_Type     10000 non-null  object \n",
      " 5   Transmission  10000 non-null  object \n",
      " 6   Mileage       10000 non-null  int64  \n",
      " 7   Doors         10000 non-null  int64  \n",
      " 8   Owner_Count   10000 non-null  int64  \n",
      " 9   Price         10000 non-null  int64  \n",
      "dtypes: float64(1), int64(5), object(4)\n",
      "memory usage: 781.4+ KB\n"
     ]
    }
   ],
   "source": [
    "data.info()"
   ]
  }
 ],
 "metadata": {
  "kernelspec": {
   "display_name": "ml",
   "language": "python",
   "name": "python3"
  },
  "language_info": {
   "codemirror_mode": {
    "name": "ipython",
    "version": 3
   },
   "file_extension": ".py",
   "mimetype": "text/x-python",
   "name": "python",
   "nbconvert_exporter": "python",
   "pygments_lexer": "ipython3",
   "version": "3.12.9"
  }
 },
 "nbformat": 4,
 "nbformat_minor": 2
}
