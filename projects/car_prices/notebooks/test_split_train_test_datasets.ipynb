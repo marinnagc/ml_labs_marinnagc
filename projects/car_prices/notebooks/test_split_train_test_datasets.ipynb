{
 "cells": [
  {
   "cell_type": "code",
   "execution_count": 1,
   "metadata": {},
   "outputs": [],
   "source": [
    "import shutil\n",
    "from pathlib import Path\n",
    "from tempfile import TemporaryDirectory\n",
    "\n",
    "import dotenv\n",
    "import pandas as pd\n",
    "from car_prices.dataset import (ExperimentConfig, load_car_dataset,\n",
    "                                load_car_dataset_split,\n",
    "                                split_train_test_and_save)"
   ]
  },
  {
   "cell_type": "code",
   "execution_count": 2,
   "metadata": {},
   "outputs": [
    {
     "name": "stdout",
     "output_type": "stream",
     "text": [
      "Data dir: /home/fjayres/dev/ml_labs/datasets\n"
     ]
    }
   ],
   "source": [
    "env = dotenv.dotenv_values()\n",
    "original_data_dir = env['DATA_DIR']\n",
    "print(f\"Data dir: {original_data_dir}\")"
   ]
  },
  {
   "cell_type": "code",
   "execution_count": 3,
   "metadata": {},
   "outputs": [],
   "source": [
    "def do_test(data_dir, metadata):\n",
    "    with TemporaryDirectory() as data_dir:\n",
    "        # Copy the data to a temporary directory\n",
    "        original_data_path = Path(original_data_dir)\n",
    "        new_data_path = Path(data_dir)\n",
    "        new_data_path.mkdir(exist_ok=True, parents=True)\n",
    "\n",
    "        shutil.copytree(original_data_path, new_data_path, dirs_exist_ok=True)\n",
    "\n",
    "        # Load the dataset from the temporary directory\n",
    "        dataset = load_car_dataset(data_dir)\n",
    "\n",
    "        # Test the functions\n",
    "        split_train_test_and_save(\n",
    "            dataset=dataset,\n",
    "            metadata=metadata,\n",
    "            data_dir=data_dir,\n",
    "        )\n",
    "\n",
    "        (\n",
    "            loaded_train_dataset,\n",
    "            loaded_test_dataset,\n",
    "            loaded_metadata,\n",
    "        ) = load_car_dataset_split(data_dir)\n",
    "\n",
    "        print(loaded_metadata)\n",
    "        print(\n",
    "            dataset.shape,\n",
    "            loaded_train_dataset.shape,\n",
    "            loaded_test_dataset.shape,\n",
    "        )"
   ]
  },
  {
   "cell_type": "code",
   "execution_count": 4,
   "metadata": {},
   "outputs": [
    {
     "name": "stdout",
     "output_type": "stream",
     "text": [
      "ExperimentConfig(test_size=0.2, random_state=42)\n",
      "(10000, 10) (8000, 10) (2000, 10)\n",
      "All tests passed!\n"
     ]
    }
   ],
   "source": [
    "metadata = ExperimentConfig(\n",
    "    test_size=0.2,\n",
    "    random_state=42,\n",
    ")\n",
    "\n",
    "with TemporaryDirectory() as data_dir:\n",
    "    do_test(data_dir, metadata)\n",
    "    print(\"All tests passed!\")"
   ]
  },
  {
   "cell_type": "code",
   "execution_count": null,
   "metadata": {},
   "outputs": [],
   "source": []
  }
 ],
 "metadata": {
  "kernelspec": {
   "display_name": "ml",
   "language": "python",
   "name": "python3"
  },
  "language_info": {
   "codemirror_mode": {
    "name": "ipython",
    "version": 3
   },
   "file_extension": ".py",
   "mimetype": "text/x-python",
   "name": "python",
   "nbconvert_exporter": "python",
   "pygments_lexer": "ipython3",
   "version": "3.12.9"
  }
 },
 "nbformat": 4,
 "nbformat_minor": 2
}
