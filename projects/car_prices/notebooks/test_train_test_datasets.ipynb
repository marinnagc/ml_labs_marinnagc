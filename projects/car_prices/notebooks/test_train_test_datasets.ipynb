{
 "cells": [
  {
   "cell_type": "code",
   "execution_count": 1,
   "metadata": {},
   "outputs": [],
   "source": [
    "from pathlib import Path\n",
    "from tempfile import TemporaryDirectory\n",
    "\n",
    "import dotenv\n",
    "import pandas as pd\n",
    "from car_prices.dataset import (ExperimentConfig, load_car_dataset,\n",
    "                                load_datasets, save_datasets, split_train_test)"
   ]
  },
  {
   "cell_type": "code",
   "execution_count": 2,
   "metadata": {},
   "outputs": [
    {
     "name": "stdout",
     "output_type": "stream",
     "text": [
      "Data dir: /home/fjayres/dev/ml_labs/datasets\n"
     ]
    }
   ],
   "source": [
    "env = dotenv.dotenv_values()\n",
    "data_dir = env['DATA_DIR']\n",
    "print(f\"Data dir: {data_dir}\")"
   ]
  },
  {
   "cell_type": "code",
   "execution_count": 3,
   "metadata": {},
   "outputs": [
    {
     "name": "stdout",
     "output_type": "stream",
     "text": [
      "(10000, 10) (8000, 10) (2000, 10)\n"
     ]
    }
   ],
   "source": [
    "dataset = load_car_dataset(data_dir)\n",
    "train_dataset, test_dataset = split_train_test(\n",
    "    dataset,\n",
    "    test_size=0.2,\n",
    "    random_state=42,\n",
    ")\n",
    "print(dataset.shape, train_dataset.shape, test_dataset.shape)"
   ]
  },
  {
   "cell_type": "code",
   "execution_count": 4,
   "metadata": {},
   "outputs": [],
   "source": [
    "def do_test(\n",
    "    basepath: Path,\n",
    "    train_dataset: pd.DataFrame,\n",
    "    test_dataset: pd.DataFrame,\n",
    ") -> None:\n",
    "    save_datasets(train_dataset, test_dataset, basepath)\n",
    "    loaded_train_dataset, loaded_test_dataset = load_datasets(basepath)\n",
    "    assert loaded_train_dataset.shape == train_dataset.shape\n",
    "    assert loaded_test_dataset.shape == test_dataset.shape\n"
   ]
  },
  {
   "cell_type": "code",
   "execution_count": 5,
   "metadata": {},
   "outputs": [
    {
     "name": "stdout",
     "output_type": "stream",
     "text": [
      "All tests passed!\n"
     ]
    }
   ],
   "source": [
    "metadata = ExperimentConfig(\n",
    "    test_size=0.2,\n",
    "    random_state=42,\n",
    ")\n",
    "\n",
    "with TemporaryDirectory() as tmpdir:\n",
    "    basepath = Path(tmpdir) / \"car_prices\"\n",
    "    basepath.mkdir(exist_ok=True, parents=True)\n",
    "    do_test(basepath, train_dataset, test_dataset)\n",
    "    print(\"All tests passed!\")"
   ]
  },
  {
   "cell_type": "code",
   "execution_count": null,
   "metadata": {},
   "outputs": [],
   "source": []
  }
 ],
 "metadata": {
  "kernelspec": {
   "display_name": "ml",
   "language": "python",
   "name": "python3"
  },
  "language_info": {
   "codemirror_mode": {
    "name": "ipython",
    "version": 3
   },
   "file_extension": ".py",
   "mimetype": "text/x-python",
   "name": "python",
   "nbconvert_exporter": "python",
   "pygments_lexer": "ipython3",
   "version": "3.12.9"
  }
 },
 "nbformat": 4,
 "nbformat_minor": 2
}
