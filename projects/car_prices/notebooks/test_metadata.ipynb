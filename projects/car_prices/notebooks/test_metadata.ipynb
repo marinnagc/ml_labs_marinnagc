{
 "cells": [
  {
   "cell_type": "code",
   "execution_count": 1,
   "metadata": {},
   "outputs": [],
   "source": [
    "from pathlib import Path\n",
    "from tempfile import TemporaryDirectory\n",
    "\n",
    "from car_prices.dataset import ExperimentConfig, load_metadata, save_metadata"
   ]
  },
  {
   "cell_type": "code",
   "execution_count": null,
   "metadata": {},
   "outputs": [],
   "source": [
    "def do_test(basepath: Path, metadata: ExperimentConfig) -> None:\n",
    "    save_metadata(metadata, basepath)\n",
    "    loaded_metadata = load_metadata(basepath)\n",
    "    assert metadata == loaded_metadata"
   ]
  },
  {
   "cell_type": "code",
   "execution_count": 3,
   "metadata": {},
   "outputs": [
    {
     "name": "stdout",
     "output_type": "stream",
     "text": [
      "All tests passed!\n"
     ]
    }
   ],
   "source": [
    "metadata = ExperimentConfig(\n",
    "    test_size=0.2,\n",
    "    random_state=42,\n",
    ")\n",
    "\n",
    "with TemporaryDirectory() as tmpdir:\n",
    "    basepath = Path(tmpdir) / \"car_prices\"\n",
    "    basepath.mkdir(exist_ok=True, parents=True)\n",
    "    do_test(basepath, metadata)\n",
    "    print(\"All tests passed!\")"
   ]
  }
 ],
 "metadata": {
  "kernelspec": {
   "display_name": "ml",
   "language": "python",
   "name": "python3"
  },
  "language_info": {
   "codemirror_mode": {
    "name": "ipython",
    "version": 3
   },
   "file_extension": ".py",
   "mimetype": "text/x-python",
   "name": "python",
   "nbconvert_exporter": "python",
   "pygments_lexer": "ipython3",
   "version": "3.12.9"
  }
 },
 "nbformat": 4,
 "nbformat_minor": 2
}
